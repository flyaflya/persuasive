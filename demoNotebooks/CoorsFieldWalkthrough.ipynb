{
  "nbformat": 4,
  "nbformat_minor": 0,
  "metadata": {
    "colab": {
      "provenance": [],
      "collapsed_sections": [],
      "authorship_tag": "ABX9TyNJGZdf7zcscfJnw5ShP1qe",
      "include_colab_link": true
    },
    "kernelspec": {
      "name": "python3",
      "display_name": "Python 3"
    },
    "language_info": {
      "name": "python"
    }
  },
  "cells": [
    {
      "cell_type": "markdown",
      "metadata": {
        "id": "view-in-github",
        "colab_type": "text"
      },
      "source": [
        "<a href=\"https://colab.research.google.com/github/flyaflya/persuasive/blob/main/demoNotebooks/CoorsFieldWalkthrough.ipynb\" target=\"_parent\"><img src=\"https://colab.research.google.com/assets/colab-badge.svg\" alt=\"Open In Colab\"/></a>"
      ]
    },
    {
      "cell_type": "markdown",
      "source": [
        "![](https://upload.wikimedia.org/wikipedia/commons/thumb/7/7b/Coors_Field_panorama_2022.jpg/400px-Coors_Field_panorama_2022.jpg)"
      ],
      "metadata": {
        "id": "lzgfZFRCDD63"
      }
    },
    {
      "cell_type": "markdown",
      "source": [
        "According to Wikipedia [https://en.wikipedia.org/wiki/Coors_Field](https://en.wikipedia.org/wiki/Coors_Field), Coors Field is a baseball stadium in Denver, Colorado with a reputation for being a home-run friendly baseball stadium:\n",
        "\n",
        "> At 5,200 feet (1,580 m) above sea level, Coors Field is by far the highest park in the majors. The next-highest, Chase Field in Phoenix, stands at 1,100 feet (340 m). Designers knew that the stadium would give up a lot of home runs, as the lower air density at such a high elevation would result in balls traveling farther than in other parks. To compensate for this, the outfield fences were placed at an unusually far distance from home plate, thus creating the largest outfield in Major League Baseball.[15] In spite of the pushed-back fences, for many years Coors Field not only gave up the most home runs in baseball, but due to the resultant large field area, the most doubles and triples as well.\n",
        "\n",
        "Wikipedia goes on to say:\n",
        "\n",
        "> Although the number of home runs hit per season at Coors Field is decreasing, Coors Field still remains the most hitter friendly ballpark in the Major Leagues by a wide margin. From 2012 to 2015, the Colorado Rockies led the league in runs scored in home games, while being last in the league for runs scored in away games. This demonstrates the extreme benefit that Coors Field's low air density provides to hitters.\n",
        "\n",
        "Nothing more recent than 2015 is mentioned in the Wikipedia article.  And since I have access to baseball data from the 2010 and 2021 seasons, let's investigate whether Colorado was and still is the most home-run friendly baseball stadium?"
      ],
      "metadata": {
        "id": "_c5T0Q6IB7L-"
      }
    },
    {
      "cell_type": "markdown",
      "source": [
        "## Stage 1: Purpose Identified\n",
        "Our purpose is to investigate the Colorado stadium and showcase how run-friendly of a baseball stadium it really is"
      ],
      "metadata": {
        "id": "KWikt-6i2gdd"
      }
    },
    {
      "cell_type": "markdown",
      "source": [
        "## Stage 2: Get Content\n",
        "\n",
        "We need some baseball data.  Luckily we can get every game in 2010 (or 2021).  Note that plotting 2,000+ baseball games is too much information, so we summarize average runs scored to get just one piece of data per stadium.\n",
        "\n"
      ],
      "metadata": {
        "id": "o3haJZeg22Gy"
      }
    },
    {
      "cell_type": "code",
      "execution_count": null,
      "metadata": {
        "id": "AKkHl_TKBzIl"
      },
      "outputs": [],
      "source": [
        "# !pip install matplotlib --upgrade\n",
        "import matplotlib.pyplot as plt\n",
        "import pandas as pd\n",
        "import numpy as np\n",
        "\n",
        "## get 2010 baseball season data - source: https://www.retrosheet.org/gamelogs/index.html\n",
        "df2010 = pd.read_csv(\"https://raw.githubusercontent.com/flyaflya/persuasive/main/baseball10.csv\")\n",
        "\n",
        "## get 2021 baseball season data - source: https://www.retrosheet.org/gamelogs/index.html\n",
        "#df2021 = pd.read_csv(\"https://raw.githubusercontent.com/flyaflya/persuasive/main/baseball21.csv\")\n"
      ]
    },
    {
      "cell_type": "code",
      "source": [
        "## aggregate data to just be average homeruns by the visiting and home team for each stadium\n",
        "## (i.e. the \"Home\" team's stadium)\n",
        "\n",
        "avgDF = (df2010.assign(totalHR = lambda df: df.visHR + df.homeHR)\n",
        "          .assign(totalRuns = lambda df: df.homeScore + df.visScore)\n",
        "          .drop(columns = ['date','visiting'])\n",
        "          .groupby(['home'], as_index=False)\n",
        "          .mean()\n",
        ")  \n",
        "avgDF.head(5)"
      ],
      "metadata": {
        "id": "fR_-_69ngf2S"
      },
      "execution_count": null,
      "outputs": []
    },
    {
      "cell_type": "markdown",
      "source": [
        "## Stage 3: Structure - Map the content to the right aesthetic\n"
      ],
      "metadata": {
        "id": "mRJwOE0236RI"
      }
    },
    {
      "cell_type": "code",
      "source": [
        "## here is the code for a scatter plot\n",
        "## show plot\n",
        "fig, ax = plt.subplots(figsize = [8,6])\n",
        "ax.scatter(x = avgDF.home, y = avgDF.totalRuns)\n",
        "\n",
        "## notice the mapping of stadium to the x-axis ends up crowding the labels\n",
        "## notice that since 0 has meaning, we should probably include that too"
      ],
      "metadata": {
        "id": "UyQhw4F34P4s"
      },
      "execution_count": null,
      "outputs": []
    },
    {
      "cell_type": "code",
      "source": [
        "## here is the code for a scatter plot\n",
        "## show plot\n",
        "fig, ax = plt.subplots(figsize = [8,6])\n",
        "ax.scatter(y = avgDF.home, x = avgDF.totalRuns)\n",
        "ax.set_xlim([0,11])\n",
        "## notice the mapping of stadium to the x-axis ends up crowding the labels"
      ],
      "metadata": {
        "id": "QYpGO8Y64riw"
      },
      "execution_count": null,
      "outputs": []
    },
    {
      "cell_type": "code",
      "source": [
        "## show plot\n",
        "fig, ax = plt.subplots(figsize = [8,6])\n",
        "ax.barh(y = avgDF.home, width = avgDF.totalRuns)"
      ],
      "metadata": {
        "id": "OUlezoSjkcEo"
      },
      "execution_count": null,
      "outputs": []
    },
    {
      "cell_type": "markdown",
      "source": [
        "## Stage 4:  Formatting\n",
        "You could spend your entire life here, be careful.\n"
      ],
      "metadata": {
        "id": "bvOI7DJi8VI1"
      }
    },
    {
      "cell_type": "markdown",
      "source": [
        "The above plot might be good enough for you as an analyst.  But it stinks for external consumption.  Let's fix that by\n",
        "\n",
        "* Highlighting Colorado Using Color (need to create more content here)\n",
        "* Sorting by totals\n",
        "* Titling that Indicates Purpose\n",
        "* Audience-friendly Labels for Axes\n",
        "* A nicer plot style (plt.style.use(\"seaborn-whitegrid\"))\n",
        "* Color-coded Legend (this is sort of ooptional, but shown for completeness)"
      ],
      "metadata": {
        "id": "jqwZgjYCrZc1"
      }
    },
    {
      "cell_type": "code",
      "source": [
        "# create color data with list comprehension\n",
        "avgDF[\"barColor\"] = [\"darkorchid\" if stadium == \"COL\" else \"lightgrey\" for stadium in avgDF.home]\n",
        "avgDF.head(10)"
      ],
      "metadata": {
        "id": "LZmfsugUcVxp"
      },
      "execution_count": null,
      "outputs": []
    },
    {
      "cell_type": "code",
      "source": [
        "## highlight Colorado\n",
        "fig, ax = plt.subplots(figsize = [8,6])\n",
        "ax.barh(y = avgDF.home, width = avgDF.totalRuns, color = avgDF.barColor)"
      ],
      "metadata": {
        "id": "rnAbfT7irP5-"
      },
      "execution_count": null,
      "outputs": []
    },
    {
      "cell_type": "code",
      "source": [
        "## sort by runs and add title/labels\n",
        "## inplace = True overwrites the values in avgDF using new sort\n",
        "avgDF.sort_values('totalRuns', inplace = True)\n",
        "\n",
        "fig, ax = plt.subplots(figsize = [8,6])\n",
        "ax.barh(y = avgDF.home, width = avgDF.totalRuns, color = avgDF.barColor)\n",
        "ax.set_title(\"Colorado (COL) is the Most Run-Friendly Ballpark in 2010\")\n",
        "ax.set_xlabel(\"Average Runs Per Game\")\n",
        "ax.set_ylabel(\"Three-Letter Stadium Code\")"
      ],
      "metadata": {
        "id": "u5iIRun9sKp7"
      },
      "execution_count": null,
      "outputs": []
    },
    {
      "cell_type": "code",
      "source": [
        "## use a nicer plot style\n",
        "plt.style.use(\"seaborn-whitegrid\")\n",
        "\n",
        "fig, ax = plt.subplots(figsize = [8,6])\n",
        "ax.barh(y = avgDF.home, width = avgDF.totalRuns, color = avgDF.barColor)\n",
        "ax.set_title(\"Colorado (COL) is the Most Run-Friendly Ballpark in 2010\")\n",
        "ax.set_xlabel(\"Average Runs Per Game\")\n",
        "ax.set_ylabel(\"Three-Letter Stadium Code\")"
      ],
      "metadata": {
        "id": "5CryAvUptxgX"
      },
      "execution_count": null,
      "outputs": []
    },
    {
      "cell_type": "code",
      "source": [
        "## add a legend\n",
        "plt.style.use(\"seaborn-whitegrid\")\n",
        "\n",
        "fig, ax = plt.subplots(figsize = [8,6])\n",
        "\n",
        "for index, row in avgDF.iterrows():\n",
        "    if row.home == \"COL\":\n",
        "        coloradoBar = ax.barh(y = row.home, width = row.totalRuns, color = row.barColor, label = \"Colorado\")\n",
        "    else:\n",
        "        otherBar = ax.barh(y = row.home, width = row.totalRuns, color = row.barColor, label = \"Other Stadium\")\n",
        "\n",
        "ax.set_title(\"Colorado (COL) is the Most Run-Friendly Ballpark in 2010\")\n",
        "ax.set_xlabel(\"Average Runs Per Game\")\n",
        "ax.set_ylabel(\"Three-Letter Stadium Code\")\n",
        "ax.legend(handles = [coloradoBar, otherBar], loc = (0.75,0.2), frameon = True)\n",
        "fig.show()"
      ],
      "metadata": {
        "id": "hUOcDQKYvO7Y"
      },
      "execution_count": null,
      "outputs": []
    },
    {
      "cell_type": "markdown",
      "source": [
        "# Your Turn\n",
        "\n",
        "Make a copy of this notebook for modifying.  Go through the code to modify the above plot which was made for \"total runs\" in 2010 to produce a similar plot for total **home runs** in 2021.  Change labels and titles according to what the data says.  Does Colorado appear to be the most homerun friendly ballpark in 2021?"
      ],
      "metadata": {
        "id": "G3bNo-0izyk7"
      }
    }
  ]
}