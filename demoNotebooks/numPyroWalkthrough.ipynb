{
  "nbformat": 4,
  "nbformat_minor": 0,
  "metadata": {
    "colab": {
      "provenance": []
    },
    "kernelspec": {
      "name": "python3",
      "display_name": "Python 3"
    },
    "language_info": {
      "name": "python"
    }
  },
  "cells": [
    {
      "cell_type": "code",
      "source": [
        "!pip install numpyro"
      ],
      "metadata": {
        "id": "hHjxi2S8myIw"
      },
      "execution_count": null,
      "outputs": []
    },
    {
      "cell_type": "code",
      "execution_count": null,
      "metadata": {
        "id": "uBXi6H5BmrPP"
      },
      "outputs": [],
      "source": [
        "!pip install daft --upgrade"
      ]
    },
    {
      "cell_type": "code",
      "source": [
        "#@title chilis example\n",
        "import matplotlib.pyplot as plt\n",
        "import pandas as pd\n",
        "from functools import partial, partialmethod\n",
        "import daft   ### %pip install -U git+https://github.com/daft-dev/daft.git\n",
        "from numpy.random import default_rng\n",
        "import numpy as np\n",
        "\n",
        "class dag(daft.PGM):\n",
        "    def __init__(self, *args, **kwargs):\n",
        "        daft.PGM.__init__(self, *args, **kwargs)\n",
        "\n",
        "    obsNode = partialmethod(daft.PGM.add_node, scale = 1.3, aspect = 2.4, fontsize = 10, plot_params = {'facecolor': 'cadetblue'})\n",
        "    decNode = partialmethod(daft.PGM.add_node, aspect = 2.2, fontsize = 10, shape = \"rectangle\", plot_params = {'facecolor': 'thistle'})\n",
        "    detNode = partialmethod(daft.PGM.add_node, aspect = 5.4, fontsize = 9.25, alternate = True, plot_params = {'facecolor': 'aliceblue'})\n",
        "    latNode = partialmethod(daft.PGM.add_node, scale = 1.3, aspect = 2.4, fontsize = 10, plot_params = {'facecolor': 'aliceblue'})\n",
        "    detNodeBig = partialmethod(daft.PGM.add_node, scale = 1.6, aspect = 2.25, fontsize = 10, alternate = True, plot_params = {'facecolor': 'aliceblue'})\n",
        "    latNodeBig = partialmethod(daft.PGM.add_node, scale = 1.6, aspect = 2.2, fontsize = 10, plot_params = {'facecolor': 'aliceblue'})\n",
        "\n",
        "pgm = dag(dpi = 300, alternate_style=\"outer\")\n",
        "pgm.obsNode(\"x\",\"Sales \\n\"+r\"Increase $(x)$\",1,1)\n",
        "pgm.latNode(\"theta\",\"Success\\n\"+r\"Probability $(\\theta)$\",1,2)\n",
        "pgm.add_edge(\"theta\",\"x\")\n",
        "pgm.add_plate([0.1, 0.2, 1.8, 1.25], label = \"Observation:\\n\" + r\"$i = 1, 2, \\ldots, N$\",\n",
        "              label_offset = (2,2), rect_params = dict({\"fill\": False, \"linestyle\": \"dashed\", \"edgecolor\": \"black\"}))\n",
        "pgm.show(dpi = 120)"
      ],
      "metadata": {
        "cellView": "form",
        "id": "AVGzaiuvoo9g"
      },
      "execution_count": null,
      "outputs": []
    },
    {
      "cell_type": "code",
      "source": [
        "import numpy as np\n",
        "import numpyro\n",
        "import numpyro.distributions as dist\n",
        "\n",
        "## define the graphical/statistical model as a Python function\n",
        "## pass data and the cardinality of plates as inputs\n",
        "## N represents the number of chilis stores for which data is observed\n",
        "def chilisModel(x):\n",
        "    # numpyro.sample is a \"primitive\", i.e. basic building block of model\n",
        "    theta = numpyro.sample('theta', dist.Uniform(low = 0, high = 1))\n",
        "    # numpyro.plate is another primitive\n",
        "    with numpyro.plate('observation', len(x)):\n",
        "        x = numpyro.sample('x', dist.Bernoulli(probs = theta), obs=x)\n"
      ],
      "metadata": {
        "id": "18L1ohnvnA0I"
      },
      "execution_count": null,
      "outputs": []
    },
    {
      "cell_type": "code",
      "source": [
        "## define the required inputs for chilismodel\n",
        "## assume first two stores are a success and\n",
        "## the third store is not (i.e. make up some data)\n",
        "salesIncData = np.array([1,1,0])"
      ],
      "metadata": {
        "id": "1skOga56usu-"
      },
      "execution_count": null,
      "outputs": []
    },
    {
      "cell_type": "code",
      "source": [
        "from jax import random\n",
        "from numpyro.infer import MCMC, NUTS\n",
        "\n",
        "## computationally get posterior distribution\n",
        "## in the below line, only change \"chilisModel\" for different problems\n",
        "mcmc = MCMC(NUTS(chilisModel), num_warmup=500, num_samples=4000)\n",
        "rng_key = random.PRNGKey(seed = 111) ## so you and I get same results\n",
        "## supply the run method with a random key followed by arguments to model\n",
        "mcmc.run(rng_key, x=salesIncData) ## get representative sample of posterior"
      ],
      "metadata": {
        "id": "nZ0lem66sodj"
      },
      "execution_count": null,
      "outputs": []
    },
    {
      "cell_type": "code",
      "source": [
        "## get summary statistics\n",
        "mcmc.print_summary()"
      ],
      "metadata": {
        "id": "_YEu-7Z1xZEk"
      },
      "execution_count": null,
      "outputs": []
    },
    {
      "cell_type": "code",
      "source": [
        "## get samples into xarray\n",
        "drawsDS = az.from_numpyro(mcmc).posterior"
      ],
      "metadata": {
        "id": "FKa77Fgs99RC"
      },
      "execution_count": null,
      "outputs": []
    },
    {
      "cell_type": "code",
      "source": [
        "drawsDS"
      ],
      "metadata": {
        "id": "XR_jznt8KV-Q"
      },
      "execution_count": null,
      "outputs": []
    },
    {
      "cell_type": "code",
      "source": [
        "## use indicator function to make probablistic statements\n",
        "## for example, find P(theta > 0.5)\n",
        "\n",
        "(\n",
        "    drawsDS\n",
        "    .assign(thetaOver50 = drawsDS.theta > 0.50)\n",
        "    .mean() # about 60% probability theta is over 50%\n",
        ").to_pandas()\n"
      ],
      "metadata": {
        "id": "pte_DzO79_FZ"
      },
      "execution_count": null,
      "outputs": []
    },
    {
      "cell_type": "code",
      "source": [
        "# arviz: see https://python.arviz.org/en/stable/\n",
        "import arviz as az"
      ],
      "metadata": {
        "id": "eZdnOyKntZU5"
      },
      "execution_count": null,
      "outputs": []
    },
    {
      "cell_type": "code",
      "source": [
        "## graph density function from representative sample\n",
        "#| label: fig-repBeta2\n",
        "#| echo: false\n",
        "#| fig-cap: A probability density estimate (purple line) for a beta(6,2) distribution.\n",
        "#| fig-align: left\n",
        "#| results: hide\n",
        "#| collapse: true\n",
        "\n",
        "from numpy import linspace\n",
        "\n",
        "fig, ax = plt.subplots(figsize=(6, 3.5),\n",
        "                        layout='constrained')\n",
        "\n",
        "# plot histogram\n",
        "az.plot_dist(drawsDS.theta, kind = \"hist\", color = \"cadetblue\", ax = ax,\n",
        "             hist_kwargs = {\"bins\": linspace(0,1,30), \"density\": True})\n",
        "\n",
        "# plot density estimate, i.e. estimate of f(x)\n",
        "az.plot_dist(drawsDS.theta, ax = ax, color = \"darkorchid\",\n",
        "             plot_kwargs = {\"zorder\": 1, \"linewidth\": 4})\n",
        "ax.set_xticks([0,.25,.5,.75,1])\n",
        "\n",
        "ax.set_ylabel('Plausibility Measure: ' + r'$f_\\Theta(\\theta)$')\n",
        "ax.set_xlabel(r'$\\theta$')\n",
        "\n",
        "plt.show()"
      ],
      "metadata": {
        "id": "pzgz4U07FCFZ"
      },
      "execution_count": null,
      "outputs": []
    },
    {
      "cell_type": "code",
      "source": [
        "## quick and easy way to plot\n",
        "az.plot_dist(drawsDS.theta)"
      ],
      "metadata": {
        "id": "9aZCZEknFkpv"
      },
      "execution_count": null,
      "outputs": []
    },
    {
      "cell_type": "markdown",
      "source": [
        "## YOUR TURN\n",
        "\n"
      ],
      "metadata": {
        "id": "8CFO-3MekNjc"
      }
    },
    {
      "cell_type": "code",
      "source": [
        "#@title modifying the chilis example\n",
        "import matplotlib.pyplot as plt\n",
        "import pandas as pd\n",
        "from functools import partial, partialmethod\n",
        "import daft   ### %pip install -U git+https://github.com/daft-dev/daft.git\n",
        "from numpy.random import default_rng\n",
        "import numpy as np\n",
        "\n",
        "class dag(daft.PGM):\n",
        "    def __init__(self, *args, **kwargs):\n",
        "        daft.PGM.__init__(self, *args, **kwargs)\n",
        "\n",
        "    obsNode = partialmethod(daft.PGM.add_node, scale = 1.3, aspect = 2.4, fontsize = 10, plot_params = {'facecolor': 'cadetblue'})\n",
        "    decNode = partialmethod(daft.PGM.add_node, aspect = 2.2, fontsize = 10, shape = \"rectangle\", plot_params = {'facecolor': 'thistle'})\n",
        "    detNode = partialmethod(daft.PGM.add_node, aspect = 5.4, fontsize = 9.25, alternate = True, plot_params = {'facecolor': 'aliceblue'})\n",
        "    latNode = partialmethod(daft.PGM.add_node, scale = 1.3, aspect = 2.4, fontsize = 10, plot_params = {'facecolor': 'aliceblue'})\n",
        "    detNodeBig = partialmethod(daft.PGM.add_node, scale = 1.6, aspect = 2.25, fontsize = 10, alternate = True, plot_params = {'facecolor': 'aliceblue'})\n",
        "    latNodeBig = partialmethod(daft.PGM.add_node, scale = 1.6, aspect = 2.2, fontsize = 10, plot_params = {'facecolor': 'aliceblue'})\n",
        "\n",
        "pgm = dag(dpi = 300, alternate_style=\"outer\")\n",
        "pgm.obsNode(\"x\",\"Sales \\n\"+r\"Increase $(x)$\",1,1)\n",
        "pgm.latNode(\"theta\",\"Success\\n\"+r\"Probability $(\\theta)$\",1,2)\n",
        "pgm.add_edge(\"theta\",\"x\")\n",
        "pgm.add_plate([0.1, 0.2, 1.8, 1.25], label = \"Observation:\\n\" + r\"$i = 1, 2, \\ldots, N$\",\n",
        "              label_offset = (2,2), rect_params = dict({\"fill\": False, \"linestyle\": \"dashed\", \"edgecolor\": \"black\"}))\n",
        "pgm.show(dpi = 120)"
      ],
      "metadata": {
        "cellView": "form",
        "id": "Ep_pCfTCkian"
      },
      "execution_count": null,
      "outputs": []
    },
    {
      "cell_type": "markdown",
      "source": [
        "Use the following statistical model:\n",
        "\n",
        "$$\n",
        "\\begin{aligned}\n",
        "\\Theta \\equiv& \\textrm{ Store Success Probability: } \\\\\n",
        "X \\equiv& \\textrm{ Sales Increase: } \\\\\n",
        "        & \\textrm{ If sales increase more than 5} \\% \\textrm{, then }X=1 \\textrm{ otherwise, }X=0.\\\\\n",
        "\\theta \\sim  & \\textrm{ Beta}(2,1) \\\\\n",
        "x \\sim  & \\textrm{ Bernoulli}(\\theta)\n",
        "\\end{aligned}\n",
        "$$\n",
        "\n",
        "Q1: Does this prior model suggest success or failure to be more likely?\n",
        "\n",
        "Q2: Write code and answer what is the posterior probability that $\\theta \\leq 40%$?"
      ],
      "metadata": {
        "id": "mfIYwV82kp3j"
      }
    }
  ]
}