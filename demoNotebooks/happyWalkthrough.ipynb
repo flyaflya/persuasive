{
  "nbformat": 4,
  "nbformat_minor": 0,
  "metadata": {
    "colab": {
      "provenance": [],
      "authorship_tag": "ABX9TyOQM6uOkmACn5mN76Ldkv8H",
      "include_colab_link": true
    },
    "kernelspec": {
      "name": "python3",
      "display_name": "Python 3"
    },
    "language_info": {
      "name": "python"
    }
  },
  "cells": [
    {
      "cell_type": "markdown",
      "metadata": {
        "id": "view-in-github",
        "colab_type": "text"
      },
      "source": [
        "<a href=\"https://colab.research.google.com/github/flyaflya/persuasive/blob/main/demoNotebooks/happyWalkthrough.ipynb\" target=\"_parent\"><img src=\"https://colab.research.google.com/assets/colab-badge.svg\" alt=\"Open In Colab\"/></a>"
      ]
    },
    {
      "cell_type": "code",
      "execution_count": null,
      "metadata": {
        "id": "RS-V-LbRm0HU"
      },
      "outputs": [],
      "source": [
        "! pip install matplotlib numpyro daft --upgrade"
      ]
    },
    {
      "cell_type": "code",
      "source": [
        "import xarray as xr\n",
        "import numpy as np\n",
        "import numpyro\n",
        "import numpyro.distributions as dist\n",
        "from jax import random\n",
        "from numpyro.infer import MCMC, NUTS\n",
        "import arviz as az\n",
        "import pandas as pd\n",
        "url = \"https://raw.githubusercontent.com/flyaflya/persuasive/main/happy.csv\"\n",
        "happyDF = pd.read_csv(url)\n",
        "happyDF"
      ],
      "metadata": {
        "id": "MJscQUCcm9y1"
      },
      "execution_count": null,
      "outputs": []
    },
    {
      "cell_type": "code",
      "source": [
        "## transforms for plotting\n",
        "plotDF = (\n",
        "    happyDF\n",
        "    .assign(x_trans = np.log10(happyDF.GDPperCapita) - np.mean(np.log10(happyDF.GDPperCapita)))\n",
        ")\n",
        "plotDF"
      ],
      "metadata": {
        "id": "Cye_yI7ynerf"
      },
      "execution_count": null,
      "outputs": []
    },
    {
      "cell_type": "code",
      "source": [
        "## see initial data and transformed data\n",
        "import matplotlib.pyplot as plt\n",
        "\n",
        "fig, (initAx,transAx) = plt.subplots(ncols = 2, figsize=(8, 4), \n",
        "                        layout='constrained')\n",
        "## continue below"
      ],
      "metadata": {
        "id": "-dyLSyQioIBs"
      },
      "execution_count": null,
      "outputs": []
    },
    {
      "cell_type": "code",
      "source": [
        "## plot the initial data and the transformed data\n",
        "plt.style.use(\"seaborn-whitegrid\") ##place at beginning\n",
        "fig, (initAx,transAx) = plt.subplots(ncols = 2, figsize=(8, 4), \n",
        "                        layout='constrained')\n",
        "\n",
        "## initial data is non-linear\n",
        "initAx.scatter(plotDF.GDPperCapita, plotDF.lifeSatisfaction)\n",
        "initAx.set_xlabel(\"GDP Per Capita\")\n",
        "initAx.set_ylabel(\"Life Satisfaction\")\n",
        "\n",
        "## trasnformed data is linear\n",
        "transAx.scatter(plotDF.x_trans, plotDF.lifeSatisfaction)\n",
        "transAx.set_xlabel(\"Transformed GDP Data\")\n",
        "transAx.set_ylabel(\"Life Satisfaction\")"
      ],
      "metadata": {
        "id": "D4mXRqGooiyx"
      },
      "execution_count": null,
      "outputs": []
    },
    {
      "cell_type": "code",
      "source": [
        "## fit numpyro model with transformed data\n",
        "#get data in format numpyro likes\n",
        "transGDP = plotDF.x_trans.to_numpy()\n",
        "lifeSatis = plotDF.lifeSatisfaction.to_numpy()\n",
        "\n",
        "## define the generative DAG as a Python function\n",
        "## for posterior predictive checks, we introduce numObs argument\n",
        "def happyModel(xval, yval):\n",
        "    alpha = numpyro.sample('alpha', dist.Normal(5,2))\n",
        "    beta = numpyro.sample('beta', dist.Uniform(low = 0, high = 5))\n",
        "    mu = numpyro.deterministic(\"mu\", alpha + beta * xval )\n",
        "    sigma = numpyro.sample(\"sigma\", dist.Gamma(2,1))\n",
        "    y = numpyro.sample(\"y\", dist.Normal(mu,sigma), obs = yval)\n",
        "\n"
      ],
      "metadata": {
        "id": "5OJKdGp6pvZY"
      },
      "execution_count": null,
      "outputs": []
    },
    {
      "cell_type": "code",
      "source": [
        "# an okay way visualize the model\n",
        "numpyro.render_model(happyModel, model_args=(transGDP,lifeSatis), render_distributions=True)"
      ],
      "metadata": {
        "id": "xvy69kGMrpCX"
      },
      "execution_count": null,
      "outputs": []
    },
    {
      "cell_type": "code",
      "source": [
        "#@title happy DAG\n",
        "import matplotlib.pyplot as plt\n",
        "import pandas as pd\n",
        "from functools import partial, partialmethod\n",
        "import daft   ### %pip install -U git+https://github.com/daft-dev/daft.git\n",
        "from numpy.random import default_rng\n",
        "import numpy as np\n",
        "\n",
        "class dag(daft.PGM):\n",
        "    def __init__(self, *args, **kwargs):\n",
        "        daft.PGM.__init__(self, *args, **kwargs)\n",
        "    \n",
        "    obsNode = partialmethod(daft.PGM.add_node, scale = 1.3, aspect = 2.4, fontsize = 10, plot_params = {'facecolor': 'cadetblue'})\n",
        "    decNode = partialmethod(daft.PGM.add_node, aspect = 2.2, fontsize = 10, shape = \"rectangle\", plot_params = {'facecolor': 'thistle'})\n",
        "    detNode = partialmethod(daft.PGM.add_node, aspect = 5.4, fontsize = 9.25, alternate = True, plot_params = {'facecolor': 'aliceblue'})\n",
        "    latNode = partialmethod(daft.PGM.add_node, scale = 1.3, aspect = 2.4, fontsize = 10, plot_params = {'facecolor': 'aliceblue'})\n",
        "    detNodeBig = partialmethod(daft.PGM.add_node, scale = 1.6, aspect = 2.25, fontsize = 10, alternate = True, plot_params = {'facecolor': 'aliceblue'})\n",
        "    latNodeBig = partialmethod(daft.PGM.add_node, scale = 1.6, aspect = 2.2, fontsize = 10, plot_params = {'facecolor': 'aliceblue'})\n",
        "    \n",
        "pgm = dag(dpi = 300, alternate_style=\"outer\")\n",
        "pgm.obsNode(\"k\",\"Daily # of Tickets Issued\\n\"+r\"$k \\sim Poisson(\\lambda)$\",1,1, aspect = 3, scale = 1.8)\n",
        "pgm.latNode(\"mu\",\"Avg. # of Daily Tickets\\n\"+r\"$\\lambda \\sim Uniform(3000,7000)$\",1,2.3, aspect = 3, scale = 1.8)\n",
        "pgm.add_edge(\"mu\",\"k\")\n",
        "pgm.add_plate([-0.5, 0.0, 3.0, 1.6], label = \"Observation:\\n\" + r\"$i = 1, 2, \\ldots, 105$\", \n",
        "              label_offset = (2,2), rect_params = dict({\"fill\": False, \"linestyle\": \"dashed\", \"edgecolor\": \"black\"}))\n",
        "pgm.show(dpi=150)"
      ],
      "metadata": {
        "id": "fhWPN_Q2DxSc"
      },
      "execution_count": null,
      "outputs": []
    },
    {
      "cell_type": "code",
      "source": [
        "# ## computationally get posterior distribution\n",
        "mcmc = MCMC(NUTS(happyModel), num_warmup=1000, num_samples=4000) \n",
        "rng_key = random.PRNGKey(seed = 111) ## so you and I get same results\n",
        "mcmc.run(rng_key, xval = transGDP, yval = lifeSatis) # get posterior\n",
        "drawsDS = az.from_numpyro(mcmc).posterior ## get posterior samples into xarray"
      ],
      "metadata": {
        "id": "wRku0ZlwriC9"
      },
      "execution_count": null,
      "outputs": []
    },
    {
      "cell_type": "code",
      "source": [
        "az.plot_posterior(drawsDS, var_names =  [\"alpha\",\"beta\",\"sigma\"])"
      ],
      "metadata": {
        "id": "RSB_1wLnsffc"
      },
      "execution_count": null,
      "outputs": []
    },
    {
      "cell_type": "code",
      "source": [
        "postSamples = mcmc.get_samples()\n",
        "postSamples"
      ],
      "metadata": {
        "id": "zIL_5VLgCWDI"
      },
      "execution_count": null,
      "outputs": []
    },
    {
      "cell_type": "code",
      "source": [
        "from numpyro.infer import Predictive\n",
        "from jax import random\n",
        "rng = random.PRNGKey(seed = 111)\n",
        "\n",
        "## Predictive is a NumPyro class used to construct posterior distributions\n",
        "predicitiveObject = Predictive(model = happyModel,\n",
        "                               posterior_samples = postSamples)"
      ],
      "metadata": {
        "id": "T-tIf1Y1COZ4"
      },
      "execution_count": null,
      "outputs": []
    },
    {
      "cell_type": "code",
      "source": [
        "## now make posterior predictions \n",
        "postPredData = predicitiveObject(rng_key, xval = transGDP, yval = None)\n",
        "postPredData  ## for each of 4,000 draws, \n",
        "              ## get simulated observations of each country"
      ],
      "metadata": {
        "id": "6POW1fYHCbzi"
      },
      "execution_count": null,
      "outputs": []
    },
    {
      "cell_type": "code",
      "source": [
        "dataForArvizPlotting = az.from_numpyro(\n",
        "    posterior = mcmc,\n",
        "    posterior_predictive=postPredData\n",
        ")\n",
        "az.plot_ppc(dataForArvizPlotting, num_pp_samples=20)"
      ],
      "metadata": {
        "id": "-PPAaroMC40g"
      },
      "execution_count": null,
      "outputs": []
    },
    {
      "cell_type": "code",
      "source": [
        "## plot back on original scale\n",
        "## use sample mu value... for now, let's just look at \n",
        "## mu 4.0615063, 5.495851\n",
        "## plot the initial data and the transformed data\n",
        "plt.style.use(\"seaborn-whitegrid\") ##place at beginning\n",
        "fig, initAx = plt.subplots(figsize=(8, 4), \n",
        "                        layout='constrained')\n",
        "\n",
        "## initial data is non-linear\n",
        "initAx.scatter(plotDF.GDPperCapita, plotDF.lifeSatisfaction)\n",
        "initAx.set_xlabel(\"GDP Per Capita\")\n",
        "initAx.set_ylabel(\"Life Satisfaction\")\n",
        "\n",
        "## come up with function to take in xvalues, transform\n",
        "## them and spit out estimate lifesatisfaction\n",
        "\n",
        "def yEstimate(alpha, beta, x):\n",
        "    x_trans = np.log10(x) - np.mean(np.log10(happyDF.GDPperCapita))\n",
        "    mu = alpha + beta * x_trans\n",
        "    return mu\n",
        "\n",
        "## make plot for first 5 candidate alpha and beta\n",
        "alphaVals = np.array(postSamples[\"alpha\"])[:5]\n",
        "betaVals = np.array(postSamples[\"beta\"])[:5]\n",
        "xvals = np.linspace(0,120000,200)\n",
        "\n",
        "for a,b in zip(alphaVals, betaVals):\n",
        "    yvals = yEstimate(a,b,xvals)\n",
        "    initAx.plot(xvals, yvals, linewidth = 0.8, color = \"grey\")\n"
      ],
      "metadata": {
        "id": "F1dcNSNgDQZU"
      },
      "execution_count": null,
      "outputs": []
    }
  ]
}