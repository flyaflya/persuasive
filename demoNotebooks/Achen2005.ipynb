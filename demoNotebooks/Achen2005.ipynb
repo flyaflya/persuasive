{
  "nbformat": 4,
  "nbformat_minor": 0,
  "metadata": {
    "colab": {
      "provenance": [],
      "authorship_tag": "ABX9TyPhq39PwC5VZ4fVDOQjTyNK",
      "include_colab_link": true
    },
    "kernelspec": {
      "name": "python3",
      "display_name": "Python 3"
    },
    "language_info": {
      "name": "python"
    }
  },
  "cells": [
    {
      "cell_type": "markdown",
      "metadata": {
        "id": "view-in-github",
        "colab_type": "text"
      },
      "source": [
        "<a href=\"https://colab.research.google.com/github/flyaflya/persuasive/blob/main/demoNotebooks/Achen2005.ipynb\" target=\"_parent\"><img src=\"https://colab.research.google.com/assets/colab-badge.svg\" alt=\"Open In Colab\"/></a>"
      ]
    },
    {
      "cell_type": "markdown",
      "source": [
        "# When A Simple Linear Model Fails\n",
        "\n",
        "Inspired by:\n",
        "\n",
        "Achen, C. H. (2005). Let's put garbage-can regressions and garbage-can probits where they belong. Conflict Management and Peace Science, 22(4), 327-339.\n",
        "\n",
        "---\n",
        "\n"
      ],
      "metadata": {
        "id": "ewalqwe9IRVF"
      }
    },
    {
      "cell_type": "code",
      "execution_count": null,
      "metadata": {
        "id": "IIKLL_ZTG4Qk"
      },
      "outputs": [],
      "source": [
        "#! pip install matplotlib seaborn daft arviz --upgrade"
      ]
    },
    {
      "cell_type": "code",
      "source": [
        "#!pip install -q numpyro@git+https://github.com/pyro-ppl/numpyro --upgrade"
      ],
      "metadata": {
        "id": "XXRRQkbYIzQK"
      },
      "execution_count": null,
      "outputs": []
    },
    {
      "cell_type": "code",
      "source": [
        "import xarray as xr\n",
        "import numpy as np\n",
        "import numpyro\n",
        "import numpyro.distributions as dist\n",
        "from jax import random\n",
        "from numpyro.infer import MCMC, NUTS\n",
        "import arviz as az\n",
        "import pandas as pd\n",
        "import seaborn as sns\n",
        "url = \"https://raw.githubusercontent.com/flyaflya/persuasive/main/achenGarbage.csv\"\n",
        "dataDF = pd.read_csv(url, index_col = \"observationID\")"
      ],
      "metadata": {
        "id": "q4r4s0EkIjho"
      },
      "execution_count": null,
      "outputs": []
    },
    {
      "cell_type": "code",
      "source": [
        "# look at the data\n",
        "dataDF"
      ],
      "metadata": {
        "id": "3mNG50BpZbi3"
      },
      "execution_count": null,
      "outputs": []
    },
    {
      "cell_type": "code",
      "source": [
        "# quick data viz using seaborn\n",
        "sns.pairplot(dataDF)"
      ],
      "metadata": {
        "id": "t8Oiuc8nOQ4G"
      },
      "execution_count": null,
      "outputs": []
    },
    {
      "cell_type": "code",
      "source": [
        "#@title The True (but hidden) Data Generating Process\n",
        "from functools import partial, partialmethod\n",
        "import daft   ### %pip install -U git+https://github.com/daft-dev/daft.git\n",
        "\n",
        "class dag(daft.PGM):\n",
        "    def __init__(self, *args, **kwargs):\n",
        "        daft.PGM.__init__(self, *args, **kwargs)\n",
        "    \n",
        "    obsNode = partialmethod(daft.PGM.add_node, scale = 1.3, aspect = 2.4, fontsize = 10, plot_params = {'facecolor': 'cadetblue'})\n",
        "    decNode = partialmethod(daft.PGM.add_node, aspect = 2.2, fontsize = 10, shape = \"rectangle\", plot_params = {'facecolor': 'thistle'})\n",
        "    detNode = partialmethod(daft.PGM.add_node, aspect = 5.4, fontsize = 9.25, alternate = True, plot_params = {'facecolor': 'aliceblue'})\n",
        "    latNode = partialmethod(daft.PGM.add_node, scale = 1.3, aspect = 2.4, fontsize = 10, plot_params = {'facecolor': 'aliceblue'})\n",
        "    detNodeBig = partialmethod(daft.PGM.add_node, scale = 1.6, aspect = 2.25, fontsize = 10, alternate = True, plot_params = {'facecolor': 'aliceblue'})\n",
        "    latNodeBig = partialmethod(daft.PGM.add_node, scale = 1.6, aspect = 2.2, fontsize = 10, plot_params = {'facecolor': 'aliceblue'})\n",
        "    \n",
        "pgm = dag(dpi = 300, alternate_style=\"outer\")\n",
        "pgm.obsNode(\"z\",\"Indep. Explanatory Var\\n\"+r\"$z$\",-2,2.4, aspect = 2.4, scale = 1.8)\n",
        "pgm.obsNode(\"x1\",\"Measured Z for Var z\\n\"+r\"$x_1$\",-2,1.2, aspect = 2.4, scale = 1.8)\n",
        "pgm.obsNode(\"x2\",\"Indep. Explanatory Var\\n\"+r\"$x_2$\",0.5,2.4, aspect = 2.4, scale = 1.8)\n",
        "pgm.latNode(\"y\",\"Dependent Variable\\n\"+r\"$y = z + 0.1*x_2$\",0.5,1.2, aspect = 2.4, scale = 1.8)\n",
        "\n",
        "pgm.add_edge(\"z\",\"x1\")\n",
        "pgm.add_edge(\"z\",\"y\")\n",
        "pgm.add_edge(\"x2\",\"y\")\n",
        "#pgm.add_plate([-0.5, 0.0, 3.0, 4.2], label = \"Observation:\\n\" + r\"$i = 0, 1, 2, \\ldots, 136$\", \n",
        " #             label_offset = (2,2), rect_params = dict({\"fill\": False, \"linestyle\": \"dashed\", \"edgecolor\": \"black\"}))\n",
        "pgm.show(dpi=150)"
      ],
      "metadata": {
        "cellView": "form",
        "id": "ksAozjODaq_C"
      },
      "execution_count": null,
      "outputs": []
    },
    {
      "cell_type": "code",
      "source": [
        "#@title Recovering Coefficients Using Bayesian Data Analysis\n",
        "from functools import partial, partialmethod\n",
        "import daft   ### %pip install -U git+https://github.com/daft-dev/daft.git\n",
        "\n",
        "class dag(daft.PGM):\n",
        "    def __init__(self, *args, **kwargs):\n",
        "        daft.PGM.__init__(self, *args, **kwargs)\n",
        "    \n",
        "    obsNode = partialmethod(daft.PGM.add_node, scale = 1.3, aspect = 2.4, fontsize = 10, plot_params = {'facecolor': 'cadetblue'})\n",
        "    decNode = partialmethod(daft.PGM.add_node, aspect = 2.2, fontsize = 10, shape = \"rectangle\", plot_params = {'facecolor': 'thistle'})\n",
        "    detNode = partialmethod(daft.PGM.add_node, aspect = 5.4, fontsize = 9.25, alternate = True, plot_params = {'facecolor': 'aliceblue'})\n",
        "    latNode = partialmethod(daft.PGM.add_node, scale = 1.3, aspect = 2.4, fontsize = 10, plot_params = {'facecolor': 'aliceblue'})\n",
        "    detNodeBig = partialmethod(daft.PGM.add_node, scale = 1.6, aspect = 2.25, fontsize = 10, alternate = True, plot_params = {'facecolor': 'aliceblue'})\n",
        "    latNodeBig = partialmethod(daft.PGM.add_node, scale = 1.6, aspect = 2.2, fontsize = 10, plot_params = {'facecolor': 'aliceblue'})\n",
        "    \n",
        "pgm = dag(dpi = 300, alternate_style=\"outer\")\n",
        "pgm.obsNode(\"z\",\"Actual Z Expl. Var\\n\"+r\"$z$\",-2,1.2, aspect = 2.4, scale = 1.8)\n",
        "pgm.obsNode(\"x2\",\"Indep. Explanatory Var\\n\"+r\"$x_2$\",-2,2.4, aspect = 2.4, scale = 1.8)\n",
        "pgm.latNode(\"mu\",\"Linear Predictor\\n\"+r\"$\\mu = \\alpha + \\beta_1 z + \\beta_2 x_2$\",0.5,1.2, aspect = 2.4, scale = 1.8)\n",
        "pgm.latNode(\"alpha\",\"Intercept\\n\"+r\"$\\alpha \\sim Normal(0,1)$\",0.5,3.6, aspect = 2.4, scale = 1.8)\n",
        "pgm.latNode(\"beta1\",\"Slope Coeff Var 1\\n\"+r\"$\\beta_1 \\sim Normal(0,0.5)$\",3,2.4, aspect = 2.4, scale = 1.8)\n",
        "pgm.latNode(\"beta2\",\"Slope Coeff Var 2\\n\"+r\"$\\beta_2 \\sim Normal(0,0.5)$\",5.5,2.4, aspect = 2.4, scale = 1.8)\n",
        "pgm.obsNode(\"y\",\"Dependent Variable\\n\"+r\"$y \\sim Normal(\\mu,\\sigma)$\",0.5,0, aspect = 2.4, scale = 1.8)\n",
        "pgm.latNode(\"sigma\",\"StdDev-Observations\\n\"+r\"$\\sigma \\sim Normal^+(0,0.01)$\",3.5,1.2, aspect = 2.4, scale = 1.8)\n",
        "\n",
        "pgm.add_edge(\"z\",\"mu\")\n",
        "pgm.add_edge(\"x2\",\"mu\")\n",
        "pgm.add_edge(\"alpha\",\"mu\")\n",
        "pgm.add_edge(\"beta1\",\"mu\")\n",
        "pgm.add_edge(\"beta2\",\"mu\")\n",
        "pgm.add_edge(\"mu\",\"y\")\n",
        "pgm.add_edge(\"sigma\",\"y\")\n",
        "pgm.add_plate([-3.3, -0.5, 5.0, 3.5], label = \"Observation:\\n\" + r\"$i = 1, 1, 2, \\ldots, 15$\", \n",
        "               label_offset = (2,2), rect_params = dict({\"fill\": False, \"linestyle\": \"dashed\", \"edgecolor\": \"black\"}))\n",
        "pgm.show(dpi=100)"
      ],
      "metadata": {
        "cellView": "form",
        "id": "n8shk92VhBr8"
      },
      "execution_count": null,
      "outputs": []
    },
    {
      "cell_type": "code",
      "source": [
        "## fit numpyro model using above DAG\n",
        "z = dataDF.z.to_numpy()\n",
        "x1 = dataDF.x_1.to_numpy()\n",
        "x2 = dataDF.x_2.to_numpy()\n",
        "y = dataDF.y.to_numpy()\n",
        "\n",
        "## define the generative DAG as a Python function\n",
        "def regressionModel(var1, var2, yVal):\n",
        "    alpha = numpyro.sample('alpha', dist.Normal(0,0.5))\n",
        "    beta1 = numpyro.sample('beta1', dist.Normal(0,0.5))\n",
        "    beta2 = numpyro.sample('beta2', dist.Normal(0,0.5))\n",
        "    sigma = numpyro.sample(\"sigma\", dist.HalfNormal(0.01))\n",
        "    with numpyro.plate('observation', len(yVal)):\n",
        "        mu = numpyro.deterministic(\"mu\", alpha + beta1 * var1 + beta2 * var2 )\n",
        "        y = numpyro.sample(\"y\", dist.Normal(mu,sigma), obs = yVal)"
      ],
      "metadata": {
        "id": "D2Ehu9ePnQuO"
      },
      "execution_count": null,
      "outputs": []
    },
    {
      "cell_type": "code",
      "source": [
        "# an okay way visualize the model - good check that we faithfully reproduced DAG\n",
        "numpyro.render_model(regressionModel, model_args=(z,x2,y), render_distributions=True)"
      ],
      "metadata": {
        "id": "2rIENn0Dp45t"
      },
      "execution_count": null,
      "outputs": []
    },
    {
      "cell_type": "code",
      "source": [
        "# ## computationally get posterior distribution\n",
        "mcmc = MCMC(NUTS(regressionModel), num_warmup=1000, num_samples=4000) \n",
        "rng_key = random.PRNGKey(seed = 111) ## so you and I get same results\n",
        "mcmc.run(rng_key, var1 = z, var2 = x2, yVal = y) # get posterior\n",
        "drawsDS = az.from_numpyro(mcmc).posterior ## get posterior samples into xarray"
      ],
      "metadata": {
        "id": "ZGMnge-Srmxu"
      },
      "execution_count": null,
      "outputs": []
    },
    {
      "cell_type": "code",
      "source": [
        "# print posterior summary - can't plot it because not enough variation in posterior estimates\n",
        "az.summary(drawsDS, var_names = [\"alpha\",\"beta1\",\"beta2\",\"sigma\"])"
      ],
      "metadata": {
        "id": "ZvRuzzg7sYqZ"
      },
      "execution_count": null,
      "outputs": []
    },
    {
      "cell_type": "code",
      "source": [
        "#@title Using A Proxy Measurement for True Explanatory Variable\n",
        "from functools import partial, partialmethod\n",
        "import daft   ### %pip install -U git+https://github.com/daft-dev/daft.git\n",
        "\n",
        "class dag(daft.PGM):\n",
        "    def __init__(self, *args, **kwargs):\n",
        "        daft.PGM.__init__(self, *args, **kwargs)\n",
        "    \n",
        "    obsNode = partialmethod(daft.PGM.add_node, scale = 1.3, aspect = 2.4, fontsize = 10, plot_params = {'facecolor': 'cadetblue'})\n",
        "    decNode = partialmethod(daft.PGM.add_node, aspect = 2.2, fontsize = 10, shape = \"rectangle\", plot_params = {'facecolor': 'thistle'})\n",
        "    detNode = partialmethod(daft.PGM.add_node, aspect = 5.4, fontsize = 9.25, alternate = True, plot_params = {'facecolor': 'aliceblue'})\n",
        "    latNode = partialmethod(daft.PGM.add_node, scale = 1.3, aspect = 2.4, fontsize = 10, plot_params = {'facecolor': 'aliceblue'})\n",
        "    detNodeBig = partialmethod(daft.PGM.add_node, scale = 1.6, aspect = 2.25, fontsize = 10, alternate = True, plot_params = {'facecolor': 'aliceblue'})\n",
        "    latNodeBig = partialmethod(daft.PGM.add_node, scale = 1.6, aspect = 2.2, fontsize = 10, plot_params = {'facecolor': 'aliceblue'})\n",
        "    \n",
        "pgm = dag(dpi = 300, alternate_style=\"outer\")\n",
        "pgm.obsNode(\"z\",\"Indep. Explanatory Var\\n\"+r\"$z$\",-2,2.4, aspect = 2.4, scale = 1.8)\n",
        "pgm.obsNode(\"x1\",\"Measured Z for Var z\\n\"+r\"$x_1$\",-2,1.2, aspect = 2.4, scale = 1.8)\n",
        "pgm.obsNode(\"x2\",\"Indep. Explanatory Var\\n\"+r\"$x_2$\",0.5,2.4, aspect = 2.4, scale = 1.8)\n",
        "pgm.latNode(\"y\",\"Dependent Variable\\n\"+r\"$y = z + 0.1*x_2$\",0.5,1.2, aspect = 2.4, scale = 1.8)\n",
        "\n",
        "pgm.add_edge(\"z\",\"x1\", plot_params = {\"ec\": \"lightgrey\", \"fc\": \"lightgrey\"}) ## not used for posterior calc\n",
        "pgm.add_edge(\"z\",\"y\", plot_params = {\"ec\": \"lightgrey\", \"fc\": \"lightgrey\"})  ## not used for posterior calc\n",
        "pgm.add_edge(\"x2\",\"y\")\n",
        "pgm.add_edge(\"x1\",\"y\", plot_params = {\"ec\": \"purple\", \"fc\": \"purple\"})  ## NEWLY USED for posterior calc\n",
        "#pgm.add_plate([-0.5, 0.0, 3.0, 4.2], label = \"Observation:\\n\" + r\"$i = 0, 1, 2, \\ldots, 136$\", \n",
        " #             label_offset = (2,2), rect_params = dict({\"fill\": False, \"linestyle\": \"dashed\", \"edgecolor\": \"black\"}))\n",
        "pgm.show(dpi=150)"
      ],
      "metadata": {
        "cellView": "form",
        "id": "Jw3RMoO98mIZ"
      },
      "execution_count": null,
      "outputs": []
    },
    {
      "cell_type": "markdown",
      "source": [
        "## Posterior Distribution for Proxy Model"
      ],
      "metadata": {
        "id": "ryaf43Id-znw"
      }
    },
    {
      "cell_type": "code",
      "source": [
        "# ## computationally get posterior distribution\n",
        "mcmc = MCMC(NUTS(regressionModel), num_warmup=1000, num_samples=4000) \n",
        "rng_key = random.PRNGKey(seed = 111) ## so you and I get same results\n",
        "#mcmc.run(rng_key, var1 = z, var2 = x2, yVal = y) # OLD WAY to get posterior\n",
        "mcmc.run(rng_key, var1 = x1, var2 = x2, yVal = y) # NEW Way to get posterior\n",
        "drawsDS = az.from_numpyro(mcmc).posterior ## get posterior samples into xarray"
      ],
      "metadata": {
        "id": "F0P2pVsI-4VY"
      },
      "execution_count": null,
      "outputs": []
    },
    {
      "cell_type": "code",
      "source": [
        "drawsDS"
      ],
      "metadata": {
        "id": "yjTVhwE-AIKq"
      },
      "execution_count": null,
      "outputs": []
    },
    {
      "cell_type": "code",
      "source": [
        "# print posterior summary - can't plot it, not sure why - not enough variation in posterior estimates?\n",
        "az.summary(drawsDS, var_names = [\"alpha\",\"beta1\",\"beta2\",\"sigma\"])"
      ],
      "metadata": {
        "id": "NHD1gBU-_Gk4"
      },
      "execution_count": null,
      "outputs": []
    },
    {
      "cell_type": "code",
      "source": [
        "# Show Basic Linear Regression Performance\n",
        "from sklearn.linear_model import LinearRegression\n",
        "\n",
        "# create a dataframe with x1, x2, and y\n",
        "df = pd.DataFrame({'x1': x1, 'x2': x2, 'y': y})\n",
        "\n",
        "# create a matrix X with x1 and x2 as columns\n",
        "X = df[['x1', 'x2']].values\n",
        "X = df[['x1']].values\n",
        "X = df[['x2']].values\n",
        "\n",
        "# create a vector y with the target variable\n",
        "y = df['y'].values\n",
        "\n",
        "# create a linear regression object\n",
        "reg = LinearRegression()\n",
        "\n",
        "# fit the linear regression model to the data\n",
        "reg.fit(X, y)\n",
        "\n",
        "# calculate the R-squared value\n",
        "r_squared = reg.score(X, y)\n",
        "\n",
        "# print the coefficients and R-squared value\n",
        "print('Coefficients:', reg.coef_)\n",
        "print('Intercept:', reg.intercept_)\n",
        "print('R-squared:', r_squared)\n"
      ],
      "metadata": {
        "id": "JABuJeKNE3Qc"
      },
      "execution_count": null,
      "outputs": []
    },
    {
      "cell_type": "code",
      "source": [
        "df"
      ],
      "metadata": {
        "id": "sLEcdJ9OH92e"
      },
      "execution_count": null,
      "outputs": []
    }
  ]
}