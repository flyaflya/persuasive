{
  "cells": [
    {
      "cell_type": "markdown",
      "metadata": {
        "id": "view-in-github",
        "colab_type": "text"
      },
      "source": [
        "<a href=\"https://colab.research.google.com/github/flyaflya/persuasive/blob/main/demoNotebooks/diagnosticsWalkthrough.ipynb\" target=\"_parent\"><img src=\"https://colab.research.google.com/assets/colab-badge.svg\" alt=\"Open In Colab\"/></a>"
      ]
    },
    {
      "cell_type": "code",
      "source": [
        "! pip install matplotlib numpyro daft --upgrade"
      ],
      "metadata": {
        "id": "ApmzvXB-gT8b"
      },
      "execution_count": null,
      "outputs": []
    },
    {
      "cell_type": "code",
      "metadata": {
        "id": "5iAMIDqFgEet"
      },
      "source": [
        "import xarray as xr\n",
        "import numpy as np\n",
        "import numpyro\n",
        "import numpyro.distributions as dist\n",
        "from jax import random\n",
        "from numpyro.infer import MCMC, NUTS\n",
        "import arviz as az\n",
        "import pandas as pd\n",
        "url = \"https://raw.githubusercontent.com/flyaflya/persuasive/main/tickets.csv\"\n",
        "ticketsDF = pd.read_csv(url, parse_dates = [\"date\"])\n",
        "wedTicketsDF = (\n",
        "    ticketsDF\n",
        "    .assign(dayOfWeek = lambda DF: DF.date.dt.day_name())\n",
        "    .where(lambda DF: DF.dayOfWeek == \"Wednesday\")\n",
        "    .dropna()\n",
        "    .groupby(\"date\")\n",
        "    .agg(numTickets = ('daily_tickets', 'sum'))\n",
        ")"
      ],
      "execution_count": null,
      "outputs": []
    },
    {
      "cell_type": "code",
      "metadata": {
        "results": "hide",
        "cellView": "form",
        "id": "i_aj1ZKCgEeu"
      },
      "source": [
        "#@title Tickets DAG\n",
        "import matplotlib.pyplot as plt\n",
        "import pandas as pd\n",
        "from functools import partial, partialmethod\n",
        "import daft   ### %pip install -U git+https://github.com/daft-dev/daft.git\n",
        "from numpy.random import default_rng\n",
        "import numpy as np\n",
        "\n",
        "class dag(daft.PGM):\n",
        "    def __init__(self, *args, **kwargs):\n",
        "        daft.PGM.__init__(self, *args, **kwargs)\n",
        "    \n",
        "    obsNode = partialmethod(daft.PGM.add_node, scale = 1.3, aspect = 2.4, fontsize = 10, plot_params = {'facecolor': 'cadetblue'})\n",
        "    decNode = partialmethod(daft.PGM.add_node, aspect = 2.2, fontsize = 10, shape = \"rectangle\", plot_params = {'facecolor': 'thistle'})\n",
        "    detNode = partialmethod(daft.PGM.add_node, aspect = 5.4, fontsize = 9.25, alternate = True, plot_params = {'facecolor': 'aliceblue'})\n",
        "    latNode = partialmethod(daft.PGM.add_node, scale = 1.3, aspect = 2.4, fontsize = 10, plot_params = {'facecolor': 'aliceblue'})\n",
        "    detNodeBig = partialmethod(daft.PGM.add_node, scale = 1.6, aspect = 2.25, fontsize = 10, alternate = True, plot_params = {'facecolor': 'aliceblue'})\n",
        "    latNodeBig = partialmethod(daft.PGM.add_node, scale = 1.6, aspect = 2.2, fontsize = 10, plot_params = {'facecolor': 'aliceblue'})\n",
        "    \n",
        "pgm = dag(dpi = 300, alternate_style=\"outer\")\n",
        "pgm.obsNode(\"k\",\"Daily # of Tickets Issued\\n\"+r\"$k \\sim Poisson(\\lambda)$\",1,1, aspect = 3, scale = 1.8)\n",
        "pgm.latNode(\"mu\",\"Avg. # of Daily Tickets\\n\"+r\"$\\lambda \\sim Uniform(3000,7000)$\",1,2.3, aspect = 3, scale = 1.8)\n",
        "pgm.add_edge(\"mu\",\"k\")\n",
        "pgm.add_plate([-0.5, 0.0, 3.0, 1.6], label = \"Observation:\\n\" + r\"$i = 1, 2, \\ldots, 105$\", \n",
        "              label_offset = (2,2), rect_params = dict({\"fill\": False, \"linestyle\": \"dashed\", \"edgecolor\": \"black\"}))\n",
        "pgm.show(dpi=150)"
      ],
      "execution_count": null,
      "outputs": []
    },
    {
      "cell_type": "code",
      "metadata": {
        "results": "hide",
        "id": "R_bXlEuKgEew"
      },
      "source": [
        "## get array of tickey values as numpy array for numpyro\n",
        "wedTicketsDS = xr.Dataset.from_dataframe(wedTicketsDF)\n",
        "wedTickets = wedTicketsDS.numTickets.to_numpy()\n",
        "\n",
        "## define the graphical/statistical model as a Python function\n",
        "def ticketsModel(k):\n",
        "    ## NOTE LAMBDA IS RESERVED WORD IN PYTHON... MUST USE MODIFIED NAME\n",
        "    lambdaParam = numpyro.sample('lambdaParam', dist.Uniform(low = 3000, high = 7000))\n",
        "    \n",
        "    with numpyro.plate('observation', len(k)):\n",
        "        k = numpyro.sample('k', dist.Poisson(rate = lambdaParam), obs = k)\n",
        "\n",
        "# ## computationally get posterior distribution\n",
        "mcmc = MCMC(NUTS(ticketsModel), num_warmup=1000, num_samples=4000) \n",
        "rng_key = random.PRNGKey(seed = 111) ## so you and I get same results\n",
        "mcmc.run(rng_key, k=wedTickets) ## get representative sample of posterior\n",
        "drawsDS = az.from_numpyro(mcmc).posterior ## get posterior samples into xarray\n",
        "az.plot_posterior(drawsDS)"
      ],
      "execution_count": null,
      "outputs": []
    },
    {
      "cell_type": "markdown",
      "metadata": {
        "id": "zc8xa3KHgEew"
      },
      "source": [
        "### Posterior Predictive Check\n"
      ]
    },
    {
      "cell_type": "code",
      "source": [
        "(\n",
        "    drawsDS\n",
        "    .lambdaParam\n",
        "    .to_numpy()\n",
        "    .flatten()\n",
        ")"
      ],
      "metadata": {
        "id": "8kJG1ZHqici0"
      },
      "execution_count": null,
      "outputs": []
    },
    {
      "cell_type": "code",
      "metadata": {
        "id": "NgsSHtVGgEex"
      },
      "source": [
        "from numpy.random import default_rng\n",
        "rng = default_rng(seed = 111) \n",
        "# drawsDS.lambdaParam is 2-d, i.e. chain and draws are coordinates\n",
        "# we use flatten to get a 1-d numpy array for input to rng.choice()\n",
        "lambdaPost = rng.choice(a = drawsDS.lambdaParam.to_numpy().flatten(), size = 1)\n",
        "lambdaPost.item()  ## show just single value"
      ],
      "execution_count": null,
      "outputs": []
    },
    {
      "cell_type": "code",
      "metadata": {
        "id": "JEBEoxDcgEey"
      },
      "source": [
        "simulatedData = rng.poisson(lam = lambdaPost, size = len(wedTickets))\n",
        "simulatedData"
      ],
      "execution_count": null,
      "outputs": []
    },
    {
      "cell_type": "markdown",
      "metadata": {
        "id": "kDxbArLHgEey"
      },
      "source": [
        "## compare density estimates of simulated data to observed data:"
      ]
    },
    {
      "cell_type": "code",
      "metadata": {
        "results": "hide",
        "id": "D1rJC_aZgEey"
      },
      "source": [
        "#| Simulated data is not capturing the variance seen in the observed data.\n",
        "import matplotlib.pyplot as plt\n",
        "from matplotlib.lines import Line2D\n",
        "from numpy import linspace\n",
        "\n",
        "fig, ax = plt.subplots(figsize=(8, 4), \n",
        "                        layout='constrained')\n",
        "\n",
        "# plot density estimate, i.e. estimate of f(x)\n",
        "az.plot_dist(wedTickets, ax = ax, color = \"darkorchid\", \n",
        "             kind = \"kde\", fill_kwargs={'alpha': 0.5})\n",
        "az.plot_dist(simulatedData, ax = ax, color = \"cadetblue\", \n",
        "             kind = \"kde\", fill_kwargs={'alpha': 0.5})\n",
        "\n",
        "ax.set_ylabel('Plausibility Measure: ' + r'$f(k)$')\n",
        "ax.set_xlabel(r'Daily Issued Tickets  $(k)$')\n",
        "ax.set_xticks(linspace(0,8000,9))\n",
        "\n",
        "custom_lines = [Line2D([0], [0], color = \"darkorchid\", lw=4, alpha = 0.5),\n",
        "                Line2D([0], [0], color = \"cadetblue\", lw=4, alpha = 0.5)]\n",
        "ax.legend(custom_lines, \n",
        "          ['Density Estimate for Observed Data', \n",
        "           'Density Estimate for Simulated Data'], loc='upper left')\n",
        "\n",
        "plt.show()"
      ],
      "execution_count": null,
      "outputs": []
    },
    {
      "cell_type": "markdown",
      "metadata": {
        "id": "9BLrp6CkgEez"
      },
      "source": [
        "## Posterior Predictive Checks Using Arviz and NumPyro\n",
        "\n"
      ]
    },
    {
      "cell_type": "code",
      "metadata": {
        "results": "hide",
        "cellView": "form",
        "id": "r167A63YgEez"
      },
      "source": [
        "#@title Cherry Tree Model - Posterior Predictive Check\n",
        "import matplotlib.pyplot as plt\n",
        "import pandas as pd\n",
        "from functools import partial, partialmethod\n",
        "import daft   ### %pip install -U git+https://github.com/daft-dev/daft.git\n",
        "from numpy.random import default_rng\n",
        "import numpy as np\n",
        "\n",
        "class dag(daft.PGM):\n",
        "    def __init__(self, *args, **kwargs):\n",
        "        daft.PGM.__init__(self, *args, **kwargs)\n",
        "    \n",
        "    obsNode = partialmethod(daft.PGM.add_node, scale = 1.3, aspect = 2.4, fontsize = 10, plot_params = {'facecolor': 'cadetblue'})\n",
        "    decNode = partialmethod(daft.PGM.add_node, aspect = 2.2, fontsize = 10, shape = \"rectangle\", plot_params = {'facecolor': 'thistle'})\n",
        "    detNode = partialmethod(daft.PGM.add_node, aspect = 5.4, fontsize = 9.25, alternate = True, plot_params = {'facecolor': 'aliceblue'})\n",
        "    latNode = partialmethod(daft.PGM.add_node, scale = 1.3, aspect = 2.4, fontsize = 10, plot_params = {'facecolor': 'aliceblue'})\n",
        "    detNodeBig = partialmethod(daft.PGM.add_node, scale = 1.6, aspect = 2.25, fontsize = 10, alternate = True, plot_params = {'facecolor': 'aliceblue'})\n",
        "    latNodeBig = partialmethod(daft.PGM.add_node, scale = 1.6, aspect = 2.2, fontsize = 10, plot_params = {'facecolor': 'aliceblue'})\n",
        "    \n",
        "pgm = dag(dpi = 300, alternate_style=\"outer\")\n",
        "pgm.obsNode(\"x\",\"Tree Height \\n\"+r\"$x \\sim StudentT(\\nu,\\mu,\\sigma)$\",0,1, scale = 1.5, aspect = 4)\n",
        "pgm.latNode(\"mu\",\"Avg Cherry Tree Height\\n\"+r\"$\\mu \\sim Normal(50,24.5)$\",0,2.2, scale = 1.5, aspect = 4)\n",
        "pgm.latNode(\"sigma\",\"Std.Dev. of Observed Height\\n\"+r\"$\\sigma \\sim Uniform(0,50)$\",3.5,2.2, scale = 1.5, aspect = 4)\n",
        "pgm.latNode(\"nu\",\"Deg. of Freedom\\n\"+r\"$\\nu \\sim Gamma(2,0.1)$\",-3.5,2.2, scale = 1.5, aspect = 4)\n",
        "pgm.add_edge(\"mu\",\"x\")\n",
        "pgm.add_edge(\"sigma\",\"x\")\n",
        "pgm.add_edge(\"nu\",\"x\")\n",
        "pgm.add_plate([-1.6, 0.1, 3.2, 1.4], label = \"Observation:\\n\" + r\"$i = 1, 2, \\ldots, 31$\", \n",
        "              label_offset = (2,2), rect_params = dict({\"fill\": False, \"linestyle\": \"dashed\", \"edgecolor\": \"black\"}))\n",
        "pgm.show(dpi=150)"
      ],
      "execution_count": null,
      "outputs": []
    },
    {
      "cell_type": "markdown",
      "metadata": {
        "id": "Ur2asr70gEe0"
      },
      "source": [
        "We get the posterior as usual:"
      ]
    },
    {
      "cell_type": "code",
      "metadata": {
        "results": "hide",
        "id": "2PxNb5CogEe1"
      },
      "source": [
        "import pandas as pd\n",
        "import xarray as xr\n",
        "import numpy as np\n",
        "\n",
        "#get data\n",
        "url = \"https://raw.githubusercontent.com/flyaflya/persuasive/main/trees.csv\"\n",
        "treeHeightData = pd.read_csv(url).Height.to_numpy()\n",
        "\n",
        "## define the generative DAG as a Python function\n",
        "## for posterior predictive checks, we introduce numObs argument\n",
        "def cherryTreeModelT(x, numObs):\n",
        "    nu = numpyro.sample('nu', dist.Gamma(concentration = 2, rate = 0.1))\n",
        "    mu = numpyro.sample('mu', dist.Normal(loc = 50, scale = 24.5))\n",
        "    sigma = numpyro.sample('sigma', dist.Uniform(low = 0, high = 50))\n",
        "\n",
        "    with numpyro.plate('observation', numObs):\n",
        "        x = numpyro.sample('x', dist.StudentT(df = nu,\n",
        "                                            loc = mu,\n",
        "                                            scale = sigma), obs=x)\n",
        "\n",
        "# ## computationally get posterior distribution\n",
        "mcmc = MCMC(NUTS(cherryTreeModelT), num_warmup=1000, num_samples=4000) \n",
        "rng_key = random.PRNGKey(seed = 111) ## so you and I get same results\n",
        "mcmc.run(rng_key, x = treeHeightData, numObs = len(treeHeightData)) # get posterior\n",
        "drawsDS = az.from_numpyro(mcmc).posterior ## get posterior samples into xarray"
      ],
      "execution_count": null,
      "outputs": []
    },
    {
      "cell_type": "markdown",
      "metadata": {
        "id": "1ANEzEk3gEe1"
      },
      "source": [
        "Now for a posterior predictive check.  Here, we reverse the process from inference to simulation as can be visualized using this generative DAG."
      ]
    },
    {
      "cell_type": "code",
      "metadata": {
        "results": "hide",
        "cellView": "form",
        "id": "rOCQ7KjRgEe1"
      },
      "source": [
        "#@title Post Pred Check is Opposite of Inference\n",
        "import matplotlib.pyplot as plt\n",
        "import pandas as pd\n",
        "from functools import partial, partialmethod\n",
        "import daft   ### %pip install -U git+https://github.com/daft-dev/daft.git\n",
        "from numpy.random import default_rng\n",
        "import numpy as np\n",
        "\n",
        "class dag(daft.PGM):\n",
        "    def __init__(self, *args, **kwargs):\n",
        "        daft.PGM.__init__(self, *args, **kwargs)\n",
        "    \n",
        "    obsNode = partialmethod(daft.PGM.add_node, scale = 1.3, aspect = 2.4, fontsize = 10, plot_params = {'facecolor': 'aliceblue'})\n",
        "    decNode = partialmethod(daft.PGM.add_node, aspect = 2.2, fontsize = 10, shape = \"rectangle\", plot_params = {'facecolor': 'thistle'})\n",
        "    detNode = partialmethod(daft.PGM.add_node, aspect = 5.4, fontsize = 9.25, alternate = True, plot_params = {'facecolor': 'aliceblue'})\n",
        "    latNode = partialmethod(daft.PGM.add_node, scale = 1.3, aspect = 2.4, fontsize = 10, plot_params = {'facecolor': 'cadetblue'})\n",
        "    detNodeBig = partialmethod(daft.PGM.add_node, scale = 1.6, aspect = 2.25, fontsize = 10, alternate = True, plot_params = {'facecolor': 'aliceblue'})\n",
        "    latNodeBig = partialmethod(daft.PGM.add_node, scale = 1.6, aspect = 2.2, fontsize = 10, plot_params = {'facecolor': 'aliceblue'})\n",
        "    \n",
        "pgm = dag(dpi = 300, alternate_style=\"outer\")\n",
        "pgm.obsNode(\"x\",\"Tree Height \\n\"+r\"$x \\sim StudentT(\\nu,\\mu,\\sigma)$\",0,1, scale = 1.5, aspect = 4)\n",
        "pgm.latNode(\"mu\",\"Avg Cherry Tree Height\\n\"+r\"$\\mu$\",0,2.2, scale = 1.5, aspect = 4)\n",
        "pgm.latNode(\"sigma\",\"Std.Dev. of Observed Height\\n\"+r\"$\\sigma$\",3.5,2.2, scale = 1.5, aspect = 4)\n",
        "pgm.latNode(\"nu\",\"Deg. of Freedom\\n\"+r\"$\\nu$\",-3.5,2.2, scale = 1.5, aspect = 4)\n",
        "pgm.add_edge(\"mu\",\"x\")\n",
        "pgm.add_edge(\"sigma\",\"x\")\n",
        "pgm.add_edge(\"nu\",\"x\")\n",
        "pgm.add_plate([-1.6, 0.1, 3.2, 1.4], label = \"Simulated Observation:\\n\" + r\"$i = 1, 2, \\ldots, 31$\", \n",
        "              label_offset = (2,2), rect_params = dict({\"fill\": False, \"linestyle\": \"dotted\", \"edgecolor\": \"darkorchid\"}))\n",
        "pgm.add_plate([-5.1, 0, 10.2, 2.8], label = \"Posterior Draw:\\n\" + r\"$draw = 1, 2, \\ldots, 4000$\", \n",
        "              label_offset = (2,2), rect_params = dict({\"fill\": False, \"linestyle\": \"dashed\", \"edgecolor\": \"cadetblue\"}))\n",
        "pgm.show(dpi=150)"
      ],
      "execution_count": null,
      "outputs": []
    },
    {
      "cell_type": "code",
      "metadata": {
        "id": "HwcAh2r3gEe2"
      },
      "source": [
        "### get samples of the darker nodes\n",
        "postSamples = mcmc.get_samples()\n",
        "postSamples"
      ],
      "execution_count": null,
      "outputs": []
    },
    {
      "cell_type": "code",
      "metadata": {
        "id": "jtJXu2nQgEe3"
      },
      "source": [
        "from numpyro.infer import Predictive\n",
        "from jax import random\n",
        "rng = random.PRNGKey(seed = 111)\n",
        "\n",
        "## Predictive is a NumPyro class used to construct posterior distributions\n",
        "cherryTreePredictiveObject = Predictive(model = cherryTreeModelT, \n",
        "                                        posterior_samples = postSamples)"
      ],
      "execution_count": null,
      "outputs": []
    },
    {
      "cell_type": "markdown",
      "metadata": {
        "id": "ZX2xKrq2gEe3"
      },
      "source": [
        "Once that object is created, you can treat this new object named `cherryTreePredictiveObject` like a function whose arguments are 1) `rng_key`: a `jax.random.PRNGKey`  random key used to draw samples, and 2) `args`: which is all the arguments required for the model (e.g. `cherryTreeModelT`) to work.  This function will return a dict of samples from the predictive distribution.  By default, only sample sites not contained in `posterior_samples` are returned."
      ]
    },
    {
      "cell_type": "code",
      "metadata": {
        "id": "wIN_KchGgEe3"
      },
      "source": [
        "## now make posterior predictions - note len(treeHeightData) = 31\n",
        "## use None for data so that it gets simulated from posterior draws\n",
        "postPredData = cherryTreePredictiveObject(rng_key, x = None, numObs = 31)\n",
        "postPredData  ## for each of 4,000 draws, \n",
        "              ## get 31 simulated observations of cherry tree height"
      ],
      "execution_count": null,
      "outputs": []
    },
    {
      "cell_type": "markdown",
      "metadata": {
        "id": "ZPLDWq6ogEe3"
      },
      "source": [
        "And then, we compare data simulated from the 4,000 random posterior draws to the observed data.  _Actually, to aid clarity, we will just use simulated data from several draws, say 20, to get a picture of how various posterior densities compare to the estimated density of the observed data._  By creating multiple simulated datasets, we can see how much the data distributions vary among plausible posterior values.  Observed data is subject to lots of randomness, so we just want to ensure that the observed randomness falls within the realm of our plausible narratives.  The below code creates an `arviz` object and subsequently automates the plotting of the posterior predictive check that we are interested in."
      ]
    },
    {
      "cell_type": "code",
      "metadata": {
        "results": "hide",
        "id": "V41vZf6VgEe3"
      },
      "source": [
        "## use arviz plotting capabilities because making these by hand is HARD\n",
        "\n",
        "dataForArvizPlotting = az.from_numpyro(\n",
        "    posterior = mcmc,\n",
        "    posterior_predictive=postPredData\n",
        ")\n",
        "az.plot_ppc(dataForArvizPlotting, num_pp_samples=20)"
      ],
      "execution_count": null,
      "outputs": []
    }
  ],
  "metadata": {
    "kernelspec": {
      "display_name": "Python 3",
      "language": "python",
      "name": "python3"
    },
    "colab": {
      "provenance": [],
      "include_colab_link": true
    }
  },
  "nbformat": 4,
  "nbformat_minor": 0
}