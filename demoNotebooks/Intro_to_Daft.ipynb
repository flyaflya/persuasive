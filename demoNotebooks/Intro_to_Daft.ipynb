{
  "nbformat": 4,
  "nbformat_minor": 0,
  "metadata": {
    "colab": {
      "provenance": [],
      "authorship_tag": "ABX9TyNon2zdlp8AbdFKeCYJ+m5e",
      "include_colab_link": true
    },
    "kernelspec": {
      "name": "python3",
      "display_name": "Python 3"
    },
    "language_info": {
      "name": "python"
    }
  },
  "cells": [
    {
      "cell_type": "markdown",
      "metadata": {
        "id": "view-in-github",
        "colab_type": "text"
      },
      "source": [
        "<a href=\"https://colab.research.google.com/github/flyaflya/persuasive/blob/main/demoNotebooks/Intro_to_Daft.ipynb\" target=\"_parent\"><img src=\"https://colab.research.google.com/assets/colab-badge.svg\" alt=\"Open In Colab\"/></a>"
      ]
    },
    {
      "cell_type": "markdown",
      "source": [
        "# Directed Acyclic Graphs\n",
        "\n",
        "Here is a visual representation of something mathematicians call a directed acyclic graph (DAG):\n",
        "\n",
        "![](https://docs.daft-pgm.org/en/latest/_images/fe7ebe13550ccb0d919ae3183576ccbbb3e01d556f1e7832ebc4019d85a5c72c.png)"
      ],
      "metadata": {
        "id": "BvrZKDop3WZ0"
      }
    },
    {
      "cell_type": "markdown",
      "source": [
        "Superficially, they are aesthetically pleasing combinations of ellipses, rectangles, and text.  During our course, we will learn they are rigorous representations of data-generating processes that are simultaneously understandable by non-technical stakeholders and rigorously defined so that we can represent data-generating processes in computer code.\n",
        "\n",
        "For now, we will just learn about Python by drawing superficially pleasing DAGs."
      ],
      "metadata": {
        "id": "d3vH1-Nj4Sys"
      }
    },
    {
      "cell_type": "markdown",
      "source": [
        "# Packages in Colab\n",
        "\n",
        "We will use the `daft` package to draw DAGs.  Colab comes preconfigured with lots of great data science packages - including `daft`.  In fact, the primary reason we are using Colab is that it greatly simplifies package maintenance for us, sometimes an enormous source of pain.  \n",
        "\n",
        "![](https://preview.redd.it/2o8wlapqk5h31.png?width=492&format=png&auto=webp&s=aff6c993cdfcceff2080731993ef6ba6ec67af25)\n",
        "\n",
        "If we were to google \"list installed packages python\", we would inevitably find this command can help:\n",
        "\n",
        "```\n",
        "pip list\n",
        "```\n",
        "\n",
        "*([sample instructions from Internet](https://www.activestate.com/resources/quick-reads/how-to-list-installed-python-packages/) )*\n",
        "\n",
        "So, let's try `pip list`, but we put an exclamation point in front of it to tell Colab that THIS IS A COMMAND LINE TOOL which we want executed on the operating system.  Skim through [\"Data Science at The Command Line\"](https://datascienceatthecommandline.com/2e/) to learn more.  Now, we move on to using `pip list`."
      ],
      "metadata": {
        "id": "9ooZs6xn5x8T"
      }
    },
    {
      "cell_type": "code",
      "execution_count": null,
      "metadata": {
        "id": "9vjUZi5b2pjr"
      },
      "outputs": [],
      "source": [
        "!pip list #use ! to run shell commands, i.e. not python, operating system / terminal / shell types of commands\n",
        "# see here for more info: https://www.reddit.com/r/learnprogramming/comments/6xr0l9/whats_the_difference_between_terminal_shell/"
      ]
    },
    {
      "cell_type": "markdown",
      "source": [
        "Notice, `daft==0.0.4` is installed.  Great, let's use it!!!\n",
        "\n",
        "# First Attempt To Use `daft`\n",
        "\n",
        "In order to use the package, let's find the documentation and try it out!  Below are the first two lines of some sample code from [the `daft` documentation](https://docs.daft-pgm.org/en/latest/examples/classic/):"
      ],
      "metadata": {
        "id": "2DFt0EH1AWQ1"
      }
    },
    {
      "cell_type": "code",
      "source": [
        "import daft\n",
        "\n",
        "# Instantiate the PGM.\n",
        "pgm = daft.PGM()\n",
        "\n"
      ],
      "metadata": {
        "colab": {
          "base_uri": "https://localhost:8080/",
          "height": 218
        },
        "id": "Kv54cHBlA_DD",
        "outputId": "24858550-6186-4915-95a6-60737baa589c"
      },
      "execution_count": 7,
      "outputs": [
        {
          "output_type": "error",
          "ename": "TypeError",
          "evalue": "ignored",
          "traceback": [
            "\u001b[0;31m---------------------------------------------------------------------------\u001b[0m",
            "\u001b[0;31mTypeError\u001b[0m                                 Traceback (most recent call last)",
            "\u001b[0;32m<ipython-input-7-f6107567d3f3>\u001b[0m in \u001b[0;36m<module>\u001b[0;34m\u001b[0m\n\u001b[1;32m      2\u001b[0m \u001b[0;34m\u001b[0m\u001b[0m\n\u001b[1;32m      3\u001b[0m \u001b[0;31m# Instantiate the PGM.\u001b[0m\u001b[0;34m\u001b[0m\u001b[0;34m\u001b[0m\u001b[0;34m\u001b[0m\u001b[0m\n\u001b[0;32m----> 4\u001b[0;31m \u001b[0mpgm\u001b[0m \u001b[0;34m=\u001b[0m \u001b[0mdaft\u001b[0m\u001b[0;34m.\u001b[0m\u001b[0mPGM\u001b[0m\u001b[0;34m(\u001b[0m\u001b[0;34m)\u001b[0m\u001b[0;34m\u001b[0m\u001b[0;34m\u001b[0m\u001b[0m\n\u001b[0m\u001b[1;32m      5\u001b[0m \u001b[0;34m\u001b[0m\u001b[0m\n",
            "\u001b[0;31mTypeError\u001b[0m: __init__() missing 1 required positional argument: 'shape'"
          ]
        }
      ]
    },
    {
      "cell_type": "markdown",
      "source": [
        "**I HATE COMPUTERS RIGHT NOW --- WHAT IS WITH THIS ERROR!!!!**\n",
        "\n",
        "![](https://media.giphy.com/media/3oFzmqXMDtHH8vEVhe/giphy.gif)\n"
      ],
      "metadata": {
        "id": "7-DGPJP9BEA1"
      }
    },
    {
      "cell_type": "markdown",
      "source": [
        "# Learning to Embrace The Productive Struggle\n",
        "Alright, I will take some deep breaths."
      ],
      "metadata": {
        "id": "7lCmPtitBfJn"
      }
    },
    {
      "cell_type": "code",
      "source": [
        "# view the help documentation\n",
        "?daft.PGM"
      ],
      "metadata": {
        "id": "DfB5ewPbC1ZY"
      },
      "execution_count": 8,
      "outputs": []
    },
    {
      "cell_type": "markdown",
      "source": [
        "From the help documentation, I can see that `shape` and `origin` are required arguments.  How does the help documentation on the Internet get away without using them?  Let's visit the `daft` github page (where the source code is stored) and see if we can make heads or tails of things.  Here is the github link: https://github.com/daft-dev/daft.  We should search for any issues having the \"positional argument\" error.  We should also check what version is the last release.\n",
        "\n",
        "Check it out!  Our exact issue has been experienced by someone else [on Github (issue #135)](https://github.com/daft-dev/daft/issues/135).  I am starting to feel relief.  They even suggested a fix!!  Let's try upgrading our daft."
      ],
      "metadata": {
        "id": "qNi_vXYKDE1D"
      }
    },
    {
      "cell_type": "code",
      "source": [
        "!pip install daft --upgrade"
      ],
      "metadata": {
        "colab": {
          "base_uri": "https://localhost:8080/",
          "height": 434
        },
        "id": "iACd2GLqErC1",
        "outputId": "005428a8-ddd5-4fd5-e559-02c25a3e68ed"
      },
      "execution_count": 10,
      "outputs": [
        {
          "output_type": "stream",
          "name": "stdout",
          "text": [
            "Looking in indexes: https://pypi.org/simple, https://us-python.pkg.dev/colab-wheels/public/simple/\n",
            "Requirement already satisfied: daft in /usr/local/lib/python3.7/dist-packages (0.0.4)\n",
            "Collecting daft\n",
            "  Downloading daft-0.1.2-py3-none-any.whl (11 kB)\n",
            "Requirement already satisfied: setuptools in /usr/local/lib/python3.7/dist-packages (from daft) (57.4.0)\n",
            "Requirement already satisfied: numpy in /usr/local/lib/python3.7/dist-packages (from daft) (1.21.6)\n",
            "Requirement already satisfied: matplotlib in /usr/local/lib/python3.7/dist-packages (from daft) (3.2.2)\n",
            "Requirement already satisfied: python-dateutil>=2.1 in /usr/local/lib/python3.7/dist-packages (from matplotlib->daft) (2.8.2)\n",
            "Requirement already satisfied: pyparsing!=2.0.4,!=2.1.2,!=2.1.6,>=2.0.1 in /usr/local/lib/python3.7/dist-packages (from matplotlib->daft) (3.0.9)\n",
            "Requirement already satisfied: kiwisolver>=1.0.1 in /usr/local/lib/python3.7/dist-packages (from matplotlib->daft) (1.4.4)\n",
            "Requirement already satisfied: cycler>=0.10 in /usr/local/lib/python3.7/dist-packages (from matplotlib->daft) (0.11.0)\n",
            "Requirement already satisfied: typing-extensions in /usr/local/lib/python3.7/dist-packages (from kiwisolver>=1.0.1->matplotlib->daft) (4.1.1)\n",
            "Requirement already satisfied: six>=1.5 in /usr/local/lib/python3.7/dist-packages (from python-dateutil>=2.1->matplotlib->daft) (1.15.0)\n",
            "Installing collected packages: daft\n",
            "  Attempting uninstall: daft\n",
            "    Found existing installation: daft 0.0.4\n",
            "    Uninstalling daft-0.0.4:\n",
            "      Successfully uninstalled daft-0.0.4\n",
            "Successfully installed daft-0.1.2\n"
          ]
        },
        {
          "output_type": "display_data",
          "data": {
            "application/vnd.colab-display-data+json": {
              "pip_warning": {
                "packages": [
                  "daft"
                ]
              }
            }
          },
          "metadata": {}
        }
      ]
    },
    {
      "cell_type": "markdown",
      "source": [
        "We better restart the runtime (i.e. start a new session of Python) as suggested."
      ],
      "metadata": {
        "id": "HevYLxFbE8sl"
      }
    },
    {
      "cell_type": "markdown",
      "source": [
        "Now, scroll back up to the cell where we got the error and see if its fixed.  You will see that it works!!  Yay.  I am a wizard.\n",
        "![](https://www.cnet.com/a/img/resize/0165e20206047e2ebe322821b4fea5fdff7f3061/hub/2014/12/01/89601d70-ca65-4dc7-adfe-f6dbd46d05ba/hobbit-lotr-5-armies-gandalf-hat.jpg?auto=webp&fit=crop&height=675&width=1200)"
      ],
      "metadata": {
        "id": "vWEnA04eFJ3V"
      }
    },
    {
      "cell_type": "markdown",
      "source": [
        "Back to the example code:\n"
      ],
      "metadata": {
        "id": "WyoF6JP_F4c4"
      }
    },
    {
      "cell_type": "code",
      "source": [
        "import daft\n",
        "\n",
        "# Instantiate the PGM.\n",
        "pgm = daft.PGM()\n",
        "\n",
        "# Hierarchical parameters.\n",
        "pgm.add_node(\"alpha\", r\"$\\alpha$\", 0.5, 2, fixed=True)\n",
        "pgm.add_node(\"beta\", r\"$\\beta$\", 1.5, 2)\n",
        "\n",
        "# Latent variable.\n",
        "pgm.add_node(\"w\", r\"$w_n$\", 1, 1)\n",
        "\n",
        "# Data.\n",
        "pgm.add_node(\"x\", r\"$x_n$\", 2, 1, observed=True)\n",
        "\n",
        "# Add in the edges.\n",
        "pgm.add_edge(\"alpha\", \"beta\")\n",
        "pgm.add_edge(\"beta\", \"w\")\n",
        "pgm.add_edge(\"w\", \"x\")\n",
        "pgm.add_edge(\"beta\", \"x\")\n",
        "\n",
        "# And a plate.\n",
        "pgm.add_plate([0.5, 0.5, 2, 1], label=r\"$n = 1, \\cdots, N$\", shift=-0.1)\n",
        "\n",
        "# Render and save.\n",
        "pgm.render()"
      ],
      "metadata": {
        "colab": {
          "base_uri": "https://localhost:8080/",
          "height": 164
        },
        "id": "1KEA174GE5QR",
        "outputId": "f9d1cee3-a4db-4f85-93ed-965b2103607b"
      },
      "execution_count": 1,
      "outputs": [
        {
          "output_type": "execute_result",
          "data": {
            "text/plain": [
              "<matplotlib.axes._axes.Axes at 0x7fa06cc0a6d0>"
            ]
          },
          "metadata": {},
          "execution_count": 1
        },
        {
          "output_type": "display_data",
          "data": {
            "text/plain": [
              "<Figure size 127.087x116.22 with 1 Axes>"
            ],
            "image/png": "[encoded data removed]"
          },
          "metadata": {}
        }
      ]
    },
    {
      "cell_type": "code",
      "source": [
        "## to get it bigger, change the dpi argument.  \n",
        "## See help documentation here: https://docs.daft-pgm.org/en/latest/api/#the-rendering-context\n",
        "pgm.render(dpi=150)"
      ],
      "metadata": {
        "colab": {
          "base_uri": "https://localhost:8080/",
          "height": 315
        },
        "id": "mRiWbae4GhB6",
        "outputId": "1eae7833-41dd-4b48-cb88-a5badeed5cd0"
      },
      "execution_count": 3,
      "outputs": [
        {
          "output_type": "execute_result",
          "data": {
            "text/plain": [
              "<matplotlib.axes._axes.Axes at 0x7fa06cc0a710>"
            ]
          },
          "metadata": {},
          "execution_count": 3
        },
        {
          "output_type": "display_data",
          "data": {
            "text/plain": [
              "<Figure size 264.764x242.126 with 1 Axes>"
            ],
            "image/png": "[encoded data removed]"
          },
          "metadata": {}
        }
      ]
    },
    {
      "cell_type": "code",
      "source": [
        "## note, this is an object-oriented workflow\n",
        "## there is object called pgm\n",
        "## we can see it of the daft.PGM (class types are often capitalized)\n",
        "type(pgm)"
      ],
      "metadata": {
        "colab": {
          "base_uri": "https://localhost:8080/"
        },
        "id": "XoGEuUsiIlyK",
        "outputId": "c4614cf7-de48-4be9-ecfa-c4bbb90d6563"
      },
      "execution_count": 4,
      "outputs": [
        {
          "output_type": "execute_result",
          "data": {
            "text/plain": [
              "daft.PGM"
            ]
          },
          "metadata": {},
          "execution_count": 4
        }
      ]
    },
    {
      "cell_type": "markdown",
      "source": [
        "You can use auto-complete to see methods by typing `pgm.` and waiting for a pop-up list of methods.  Note: code completions and documentation hints occur automatically while you type.\n",
        "\n",
        "Use the following keyboard shortcuts:\n",
        " - `Ctrl-space` to re-open completions.\n",
        " - `Ctrl-shift-space` to re-open parameter hints."
      ],
      "metadata": {
        "id": "ClbgEUvgJVKq"
      }
    },
    {
      "cell_type": "code",
      "source": [
        "pgm.    "
      ],
      "metadata": {
        "id": "QAH8DA_PJhaa"
      },
      "execution_count": null,
      "outputs": []
    },
    {
      "cell_type": "markdown",
      "source": [
        "# Your Turn To Try To Figure Things Out\n",
        "\n",
        "Use the documentation available at https://docs.daft-pgm.org/en/latest/api/ to figure out how to reproduce these two images:\n",
        "\n",
        "![](https://raw.githubusercontent.com/flyaflya/persuasive/main/images/fig-newsvOval-1.png) ![](https://raw.githubusercontent.com/flyaflya/persuasive/main/images/fig-newsvRect-3.png)"
      ],
      "metadata": {
        "id": "8nWggst0KheL"
      }
    },
    {
      "cell_type": "code",
      "source": [
        "## here is some skeleton code to get started\n",
        "# Instantiate the PGM.\n",
        "pgm = daft.PGM()\n",
        "\n",
        "# Hierarchical parameters.\n",
        "nodeNameString = \"I AM NODE\\n\" + r\"$(N)$\"\n",
        "pgm.add_node(node = \"node\", content = nodeNameString, x = 0.5, y = 2, scale = 4)\n",
        "pgm.add_node(node = \"node2\", content = \"Other Node\", x = 2.4, y = 2, aspect = 2)\n",
        "\n",
        "# show pgm\n",
        "pgm.show()"
      ],
      "metadata": {
        "colab": {
          "base_uri": "https://localhost:8080/",
          "height": 156
        },
        "id": "sas0mtwQLiZU",
        "outputId": "e5fca5f5-c969-45e9-d95b-877a3fecd47b"
      },
      "execution_count": 12,
      "outputs": [
        {
          "output_type": "display_data",
          "data": {
            "text/plain": [
              "<Figure size 204.094x124.724 with 1 Axes>"
            ],
            "image/png": "[encoded data removed]"
          },
          "metadata": {}
        }
      ]
    }
  ]
}