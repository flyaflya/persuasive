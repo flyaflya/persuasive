{
  "nbformat": 4,
  "nbformat_minor": 0,
  "metadata": {
    "colab": {
      "provenance": [],
      "collapsed_sections": [],
      "authorship_tag": "ABX9TyOvxf8xXMcvewgbaPF4jSBF",
      "include_colab_link": true
    },
    "kernelspec": {
      "name": "python3",
      "display_name": "Python 3"
    },
    "language_info": {
      "name": "python"
    }
  },
  "cells": [
    {
      "cell_type": "markdown",
      "metadata": {
        "id": "view-in-github",
        "colab_type": "text"
      },
      "source": [
        "<a href=\"https://colab.research.google.com/github/flyaflya/persuasive/blob/main/demoNotebooks/repUncLecture.ipynb\" target=\"_parent\"><img src=\"https://colab.research.google.com/assets/colab-badge.svg\" alt=\"Open In Colab\"/></a>"
      ]
    },
    {
      "cell_type": "code",
      "source": [
        "# this command is used below:\n",
        "# fig, ax = plt.subplots(figsize=(6, 3.5), \n",
        "#                       layout='constrained')\n",
        "\n",
        "# it will error out using Colab default matplotlib version\n",
        "# so let's upgrade matplotlib to avoid the issue later\n",
        "\n",
        "!pip install matplotlib --upgrade"
      ],
      "metadata": {
        "id": "91chmAlNBDot"
      },
      "execution_count": null,
      "outputs": []
    },
    {
      "cell_type": "markdown",
      "source": [
        "# You and I Generating the Same Random Numbers"
      ],
      "metadata": {
        "id": "jpWQK57cP22n"
      }
    },
    {
      "cell_type": "code",
      "execution_count": null,
      "metadata": {
        "id": "U6eq8JF-4ffL"
      },
      "outputs": [],
      "source": [
        "# import just the default_rng function\n",
        "from numpy.random import default_rng\n",
        "\n",
        "# seed argument so you and I get same randomness\n",
        "rng = default_rng(seed = 111) \n",
        "\n",
        "# using a math fact here that a Bernoulli RV\n",
        "# is just a binomial RV with parameter n = 1\n",
        "rng.binomial(n=1,p=0.5,size=5)"
      ]
    },
    {
      "cell_type": "markdown",
      "source": [
        "# Storing Simulations in a Dataframe"
      ],
      "metadata": {
        "id": "_gOtm0FTP86X"
      }
    },
    {
      "cell_type": "code",
      "source": [
        "import pandas as pd\n",
        "from numpy import cumsum, arange, mean\n",
        "\n",
        "## put constants that you may choose to change at top of script\n",
        "numFlips = 7\n",
        "\n",
        "# create pandas dataframe from a dictionary\n",
        "# range(1, numFlips+1) is sequence of 1 to 50\n",
        "df = pd.DataFrame({\"flipNum\": range(1, numFlips+1),  \n",
        "                   \"coinFlip\": rng.binomial(n=1, \n",
        "                                p = 0.5, \n",
        "                                size = numFlips)})\n",
        "\n",
        "df[\"headsProportion\"] = df.coinFlip.cumsum() / df.flipNum\n",
        "df"
      ],
      "metadata": {
        "id": "vegWB-xK_4LL"
      },
      "execution_count": null,
      "outputs": []
    },
    {
      "cell_type": "markdown",
      "source": [
        "# Using matplotlib's Object-Oriented Interface"
      ],
      "metadata": {
        "id": "XvqdXnEyQFYh"
      }
    },
    {
      "cell_type": "code",
      "source": [
        "import matplotlib.pyplot as plt\n",
        "\n",
        "## uncomment one line at a time to see how plot is build\n",
        "## plot the results using matplotlib object-oriented interface\n",
        "fig, ax = plt.subplots(figsize=(6, 3.5), \n",
        "                       layout='constrained')\n",
        "# ax.plot(\"flipNum\",\"headsProportion\", data = df)\n",
        "# ax.scatter(\"flipNum\",\"headsProportion\", data = df)\n",
        "# ax.set_ylim(0,1);\n",
        "# ax.axhline(0.5, color = \"red\")\n",
        "# ax.set_xlabel(\"Flip Number\")\n",
        "# ax.set_ylabel(\"Proportion of Heads\")\n",
        "# ax.set_title(\"Running Proportion of Heads\")\n",
        "plt.show()"
      ],
      "metadata": {
        "id": "cjt1zlm8BbCs"
      },
      "execution_count": null,
      "outputs": []
    },
    {
      "cell_type": "code",
      "source": [
        "fig.axes"
      ],
      "metadata": {
        "id": "tb0GVeTYB3dg"
      },
      "execution_count": null,
      "outputs": []
    },
    {
      "cell_type": "markdown",
      "source": [
        "*SWITCH BACK TO PPT*"
      ],
      "metadata": {
        "id": "a_NmN8waPa-F"
      }
    },
    {
      "cell_type": "markdown",
      "source": [
        "# The Binomial Distribution\n",
        "\n",
        "A particularly useful two-parameter distribution was derived as a generalization of a Bernoulli distribution. None other than Jacob Bernoulli himself realized that just one Bernoulli trial is sort of uninteresting (would you predict the next president by polling just one person?). Hence, he created the binomial distribution.\n",
        "\n",
        "The binomial distribution is a two-parameter distribution. You specify the values for the two parameters and then, you know everything there is to know about a random variable which is binomially distributed. The distribution models scenarios where we are interested in the cumulative outcome of successive Bernoulli trials - something like the number of heads in multiple coin flips or the number of passengers that arrive given three reservations. More formally, a binomially distributed random variable, let’s call it $X$, represents the number of successes in $n$ Bernoulli trials where each trial has success probability $p$. Thus, $n$ and $p$ are the two-parameters that need to be specified for a Binomial-distributed random variable."
      ],
      "metadata": {
        "id": "kHhdSYKUKSlD"
      }
    },
    {
      "cell_type": "markdown",
      "source": [
        "## Revenue Management With The Binomial Distribution\n",
        "\n",
        "A particular 50-room boutique hotel on I-95 is frequently booked full.  Despite this, it seems customers do not always show up for their room.  In fact, it seems only 95% of customers show up for any given night to stay at the hotel.\n",
        "\n",
        "The hotel is thinking of accepting 51 reservations for its 50 rooms.  What is the probability that more than 50 customers show up."
      ],
      "metadata": {
        "id": "-ITloXIsK7HI"
      }
    },
    {
      "cell_type": "code",
      "source": [
        "## if X ~ Binomial(n=51,p=0.95)\n",
        "## what is the probability X > 50?\n",
        "## note this is the same as 1 - P(X<=50)\n",
        "## i.e. 1 - F(50)\n",
        "from scipy import stats\n",
        "\n",
        "# google scipy binomial\n",
        "\n",
        "# create a rv object\n",
        "X = stats.binom(n=51,p=0.95)\n",
        "\n",
        "# make probabilistic statement\n",
        "overbookingProb = 1 - X.cdf(50)\n",
        "overbookingProb  # 7.3%"
      ],
      "metadata": {
        "id": "rBS40hTdHr2R"
      },
      "execution_count": null,
      "outputs": []
    },
    {
      "cell_type": "markdown",
      "source": [
        "### Question for you:\n",
        "\n",
        "When the hotel accepts 50 reservations, what is the probability that there is at least one empty room?"
      ],
      "metadata": {
        "id": "4ZPg2BgDMl5u"
      }
    },
    {
      "cell_type": "code",
      "source": [
        "## type your code here"
      ],
      "metadata": {
        "id": "Cm6R0TBMJFyD"
      },
      "execution_count": null,
      "outputs": []
    },
    {
      "cell_type": "markdown",
      "source": [
        "# An Even Harder Question For You, Use the Documentation\n",
        "The number of months the average Amazon warehouse employee works until they quit or get fired follows a Weibull (a.k.a weibull_min) distribution with shape parameter 1 (i.e. 𝜶=𝟏) and scale parameter equal to 10 (i.e. 𝜷=𝟏𝟎). \n",
        "\n",
        "**Question 1:** What is the probability that a worker is employed with Amazon for less than one year? \n",
        "\n",
        "**Question 2:** What is the probability that a worker is employed for more than 6 months?"
      ],
      "metadata": {
        "id": "YiAnAqyJJky5"
      }
    }
  ]
}