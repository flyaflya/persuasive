{
  "nbformat": 4,
  "nbformat_minor": 0,
  "metadata": {
    "colab": {
      "provenance": [],
      "authorship_tag": "ABX9TyMp9e4hV6HdwHXEdzEVdwY6",
      "include_colab_link": true
    },
    "kernelspec": {
      "name": "python3",
      "display_name": "Python 3"
    },
    "language_info": {
      "name": "python"
    }
  },
  "cells": [
    {
      "cell_type": "markdown",
      "metadata": {
        "id": "view-in-github",
        "colab_type": "text"
      },
      "source": [
        "<a href=\"https://colab.research.google.com/github/flyaflya/persuasive/blob/main/demoNotebooks/Adding_A_Method_To_DAFT.ipynb\" target=\"_parent\"><img src=\"https://colab.research.google.com/assets/colab-badge.svg\" alt=\"Open In Colab\"/></a>"
      ]
    },
    {
      "cell_type": "code",
      "source": [
        "!pip install daft --upgrade  # no restart required because we never imported package into this runtime"
      ],
      "metadata": {
        "id": "t6DiBHzyPuU9"
      },
      "execution_count": null,
      "outputs": []
    },
    {
      "cell_type": "markdown",
      "source": [
        "# Creating A Child Class to Have Custom `daft` Methods\n",
        "\n",
        "We will repeatedly use highly customized ellipses and rectangles when drawing DAGs.  Notice that some of these shapes we might want to draw repeatedly require many arguments to be specified.\n",
        "\n",
        "Here are two shape/color combos we will use frequently in our pictures."
      ],
      "metadata": {
        "id": "7Tu3d2ycO9F9"
      }
    },
    {
      "cell_type": "code",
      "source": [
        "import daft\n",
        "pgm = daft.PGM(dpi = 200, alternate_style=\"outer\")\n",
        "pgm.add_node(\"rev\",\"Rev. Function\\n\"+r\"$(rev)$\",x = 0, y = 1, aspect = 4, fontsize = 9.25, plot_params = {'facecolor': 'cadetblue'})\n",
        "pgm.add_node(\"exp\",\"Exp. Function\\n\"+r\"$(exp)$\",x = 3, y = 1,aspect = 4, fontsize = 9.25, plot_params = {'facecolor': 'cadetblue'})\n",
        "pgm.add_node(\"profit\",\"Profit Function\\n\"+r\"$(\\pi = rev- exp)$\",x = 1.5, y = 0,aspect = 5.4, fontsize = 9.25, alternate = True, plot_params = {'facecolor': 'aliceblue'})\n",
        "pgm.show()"
      ],
      "metadata": {
        "id": "PQKXawuwQ16-"
      },
      "execution_count": null,
      "outputs": []
    },
    {
      "cell_type": "markdown",
      "source": [
        "In the above code, it pains me to duplicate so many argument values.  Do I really need to write out:\n",
        "\n",
        "```\n",
        "aspect = 5.4, fontsize = 9.25, alternate = True, plot_params = {'facecolor': 'aliceblue'}\n",
        "```\n",
        "\n",
        "every single time I make one of these cool looking nodes?  What I really want is the `add_node` function with some default arguments. "
      ],
      "metadata": {
        "id": "AUuCsVdhSy-W"
      }
    },
    {
      "cell_type": "markdown",
      "source": [
        "# Creating a New Class So We Can Add Some Methods Without Screwing Things Up\n",
        "\n",
        "> Classes [a.k.a. types] provide a means of bundling data and functionality together. Creating a new class creates a new type of object, allowing new instances of that type to be made. Each class instance can have attributes attached to it for maintaining its state. Class instances can also have methods (defined by its class) for modifying its state. \n",
        "\n",
        "[source: Python Documentation](https://docs.python.org/3/tutorial/classes.html)\n",
        "\n",
        "For any object of type `daft.PGM` (i.e. created from the `daft.PGM` class blueprint), there are certain *attributes* (i.e. data) of that object like `grid_unit`, `alternate_style`, `node_fc`, and `dpi` whose values determine the objects state.  Also, there are *methods* which are just functions that operate exlusively on objects of the `daft.PGM` class.  These methods include `add_node()`, `add_edge()` and `show()`.\n",
        "\n"
      ],
      "metadata": {
        "id": "x-iEMkwWUSat"
      }
    },
    {
      "cell_type": "code",
      "source": [
        "## create new constructor for instances of a new class called DAG\n",
        "## DAG is identical to daft.PGM, but has two additional methods:\n",
        "## 1) observedNode() and 2) deterministicNode(),\n",
        "## and one additional attribute called truth\n",
        "## code for daft package is worth looking at: https://github.com/daft-dev/daft/blob/master/daft.py\n",
        "\n",
        "## use partialmethod to create new method, based on existing method, with different default arguments\n",
        "from functools import partialmethod\n",
        "\n",
        "class DAG(daft.PGM):\n",
        "\n",
        "    def __init__(self, *args, **kwargs):\n",
        "        daft.PGM.__init__(self, *args, **kwargs)\n",
        "        self.truth = \"The most compelling analysts unify narrative, math, and code.\"\n",
        "\n",
        "    observedNode = partialmethod(daft.PGM.add_node, aspect = 4, fontsize = 9.25, plot_params = {'facecolor': 'purple'})\n",
        "    deterministicNode = partialmethod(daft.PGM.add_node, aspect = 5.4, fontsize = 9.25, alternate = True, plot_params = {'facecolor': 'aliceblue'})\n"
      ],
      "metadata": {
        "id": "q3XluiegQq_y"
      },
      "execution_count": null,
      "outputs": []
    },
    {
      "cell_type": "code",
      "source": [
        "## construct an object of the new class\n",
        "## it does everything like a daft.PGM object, but with some cool defaults\n",
        "## showcase two new methods, observedNode() and deterministicNode()\n",
        "newpgm = DAG(dpi = 150, alternate_style=\"outer\")  ## new constructor object\n",
        "newpgm.observedNode(\"rev\",\"Rev. Function\\n\"+r\"$(rev)$\",x = 0, y = 1)\n",
        "newpgm.observedNode(\"exp\",\"Exp. Function\\n\"+r\"$(exp)$\",x = 3, y = 1)\n",
        "newpgm.deterministicNode(\"profit\",\"Profit Function\\n\"+r\"$(\\pi = rev- exp)$\",x = 1.5, y = 0)\n",
        "\n",
        "## can also use any method for daft.PGM class that DAG inherits properties from\n",
        "newpgm.add_edge(\"rev\",\"profit\")\n",
        "newpgm.add_edge(\"exp\",\"profit\")\n",
        "\n",
        "newpgm.show()"
      ],
      "metadata": {
        "id": "pg06CMZeTkf2"
      },
      "execution_count": null,
      "outputs": []
    },
    {
      "cell_type": "code",
      "source": [
        "## showcase new property\n",
        "newpgm.truth"
      ],
      "metadata": {
        "id": "5_RmqF5iam0c"
      },
      "execution_count": null,
      "outputs": []
    },
    {
      "cell_type": "code",
      "source": [
        "## check type\n",
        "type(newpgm)"
      ],
      "metadata": {
        "id": "ZDZ5_2ZIcmYw"
      },
      "execution_count": null,
      "outputs": []
    },
    {
      "cell_type": "code",
      "source": [
        "## note: it is still a daft.PGM object as well\n",
        "isinstance(newpgm,daft.PGM)  ## yes it is :-)"
      ],
      "metadata": {
        "id": "JJ8rZeSHcvjr"
      },
      "execution_count": null,
      "outputs": []
    },
    {
      "cell_type": "markdown",
      "source": [
        "# More Information\n",
        "One of the best places for learning Python is the offical Python documentation.  Check out this great information about classes:\n",
        "\n",
        "https://docs.python.org/3/tutorial/classes.html"
      ],
      "metadata": {
        "id": "ndw8mZZHUom1"
      }
    }
  ]
}