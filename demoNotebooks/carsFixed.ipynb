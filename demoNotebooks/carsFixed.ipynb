{
  "nbformat": 4,
  "nbformat_minor": 0,
  "metadata": {
    "colab": {
      "provenance": [],
      "authorship_tag": "ABX9TyPGUQU8YIf5+gzp68z+HpDR",
      "include_colab_link": true
    },
    "kernelspec": {
      "name": "python3",
      "display_name": "Python 3"
    },
    "language_info": {
      "name": "python"
    }
  },
  "cells": [
    {
      "cell_type": "markdown",
      "metadata": {
        "id": "view-in-github",
        "colab_type": "text"
      },
      "source": [
        "<a href=\"https://colab.research.google.com/github/flyaflya/persuasive/blob/main/demoNotebooks/carsFixed.ipynb\" target=\"_parent\"><img src=\"https://colab.research.google.com/assets/colab-badge.svg\" alt=\"Open In Colab\"/></a>"
      ]
    },
    {
      "cell_type": "code",
      "execution_count": null,
      "metadata": {
        "id": "1SJiG4TS2tBx"
      },
      "outputs": [],
      "source": [
        "! pip install matplotlib numpyro daft --upgrade  ##restart runtime"
      ]
    },
    {
      "cell_type": "markdown",
      "source": [
        "## Get the Data"
      ],
      "metadata": {
        "id": "_1kImt_a20JJ"
      }
    },
    {
      "cell_type": "code",
      "source": [
        "import pandas as pd\n",
        "url = \"https://raw.githubusercontent.com/flyaflya/persuasive/main/carsFixed.csv\"\n",
        "carsDF = pd.read_csv(url)\n",
        "carsDF"
      ],
      "metadata": {
        "colab": {
          "base_uri": "https://localhost:8080/",
          "height": 424
        },
        "id": "14dhlLmy21ge",
        "outputId": "f3c2942c-27db-4472-85cb-cf0e655eac57"
      },
      "execution_count": 1,
      "outputs": [
        {
          "output_type": "execute_result",
          "data": {
            "text/plain": [
              "     observation  shopID  boss  carsFixed\n",
              "0              1       1     0          8\n",
              "1              2       2     0         22\n",
              "2              3       3     0         32\n",
              "3              4       4     1         64\n",
              "4              5       5     0         53\n",
              "..           ...     ...   ...        ...\n",
              "245          246       1     1         18\n",
              "246          247       2     0         22\n",
              "247          248       3     0         31\n",
              "248          249       4     0         26\n",
              "249          250       5     0         48\n",
              "\n",
              "[250 rows x 4 columns]"
            ],
            "text/html": [
              "\n",
              "  <div id=\"df-61344a9f-a5c4-4a85-b27b-c57e5792403e\">\n",
              "    <div class=\"colab-df-container\">\n",
              "      <div>\n",
              "<style scoped>\n",
              "    .dataframe tbody tr th:only-of-type {\n",
              "        vertical-align: middle;\n",
              "    }\n",
              "\n",
              "    .dataframe tbody tr th {\n",
              "        vertical-align: top;\n",
              "    }\n",
              "\n",
              "    .dataframe thead th {\n",
              "        text-align: right;\n",
              "    }\n",
              "</style>\n",
              "<table border=\"1\" class=\"dataframe\">\n",
              "  <thead>\n",
              "    <tr style=\"text-align: right;\">\n",
              "      <th></th>\n",
              "      <th>observation</th>\n",
              "      <th>shopID</th>\n",
              "      <th>boss</th>\n",
              "      <th>carsFixed</th>\n",
              "    </tr>\n",
              "  </thead>\n",
              "  <tbody>\n",
              "    <tr>\n",
              "      <th>0</th>\n",
              "      <td>1</td>\n",
              "      <td>1</td>\n",
              "      <td>0</td>\n",
              "      <td>8</td>\n",
              "    </tr>\n",
              "    <tr>\n",
              "      <th>1</th>\n",
              "      <td>2</td>\n",
              "      <td>2</td>\n",
              "      <td>0</td>\n",
              "      <td>22</td>\n",
              "    </tr>\n",
              "    <tr>\n",
              "      <th>2</th>\n",
              "      <td>3</td>\n",
              "      <td>3</td>\n",
              "      <td>0</td>\n",
              "      <td>32</td>\n",
              "    </tr>\n",
              "    <tr>\n",
              "      <th>3</th>\n",
              "      <td>4</td>\n",
              "      <td>4</td>\n",
              "      <td>1</td>\n",
              "      <td>64</td>\n",
              "    </tr>\n",
              "    <tr>\n",
              "      <th>4</th>\n",
              "      <td>5</td>\n",
              "      <td>5</td>\n",
              "      <td>0</td>\n",
              "      <td>53</td>\n",
              "    </tr>\n",
              "    <tr>\n",
              "      <th>...</th>\n",
              "      <td>...</td>\n",
              "      <td>...</td>\n",
              "      <td>...</td>\n",
              "      <td>...</td>\n",
              "    </tr>\n",
              "    <tr>\n",
              "      <th>245</th>\n",
              "      <td>246</td>\n",
              "      <td>1</td>\n",
              "      <td>1</td>\n",
              "      <td>18</td>\n",
              "    </tr>\n",
              "    <tr>\n",
              "      <th>246</th>\n",
              "      <td>247</td>\n",
              "      <td>2</td>\n",
              "      <td>0</td>\n",
              "      <td>22</td>\n",
              "    </tr>\n",
              "    <tr>\n",
              "      <th>247</th>\n",
              "      <td>248</td>\n",
              "      <td>3</td>\n",
              "      <td>0</td>\n",
              "      <td>31</td>\n",
              "    </tr>\n",
              "    <tr>\n",
              "      <th>248</th>\n",
              "      <td>249</td>\n",
              "      <td>4</td>\n",
              "      <td>0</td>\n",
              "      <td>26</td>\n",
              "    </tr>\n",
              "    <tr>\n",
              "      <th>249</th>\n",
              "      <td>250</td>\n",
              "      <td>5</td>\n",
              "      <td>0</td>\n",
              "      <td>48</td>\n",
              "    </tr>\n",
              "  </tbody>\n",
              "</table>\n",
              "<p>250 rows × 4 columns</p>\n",
              "</div>\n",
              "      <button class=\"colab-df-convert\" onclick=\"convertToInteractive('df-61344a9f-a5c4-4a85-b27b-c57e5792403e')\"\n",
              "              title=\"Convert this dataframe to an interactive table.\"\n",
              "              style=\"display:none;\">\n",
              "        \n",
              "  <svg xmlns=\"http://www.w3.org/2000/svg\" height=\"24px\"viewBox=\"0 0 24 24\"\n",
              "       width=\"24px\">\n",
              "    <path d=\"M0 0h24v24H0V0z\" fill=\"none\"/>\n",
              "    <path d=\"M18.56 5.44l.94 2.06.94-2.06 2.06-.94-2.06-.94-.94-2.06-.94 2.06-2.06.94zm-11 1L8.5 8.5l.94-2.06 2.06-.94-2.06-.94L8.5 2.5l-.94 2.06-2.06.94zm10 10l.94 2.06.94-2.06 2.06-.94-2.06-.94-.94-2.06-.94 2.06-2.06.94z\"/><path d=\"M17.41 7.96l-1.37-1.37c-.4-.4-.92-.59-1.43-.59-.52 0-1.04.2-1.43.59L10.3 9.45l-7.72 7.72c-.78.78-.78 2.05 0 2.83L4 21.41c.39.39.9.59 1.41.59.51 0 1.02-.2 1.41-.59l7.78-7.78 2.81-2.81c.8-.78.8-2.07 0-2.86zM5.41 20L4 18.59l7.72-7.72 1.47 1.35L5.41 20z\"/>\n",
              "  </svg>\n",
              "      </button>\n",
              "      \n",
              "  <style>\n",
              "    .colab-df-container {\n",
              "      display:flex;\n",
              "      flex-wrap:wrap;\n",
              "      gap: 12px;\n",
              "    }\n",
              "\n",
              "    .colab-df-convert {\n",
              "      background-color: #E8F0FE;\n",
              "      border: none;\n",
              "      border-radius: 50%;\n",
              "      cursor: pointer;\n",
              "      display: none;\n",
              "      fill: #1967D2;\n",
              "      height: 32px;\n",
              "      padding: 0 0 0 0;\n",
              "      width: 32px;\n",
              "    }\n",
              "\n",
              "    .colab-df-convert:hover {\n",
              "      background-color: #E2EBFA;\n",
              "      box-shadow: 0px 1px 2px rgba(60, 64, 67, 0.3), 0px 1px 3px 1px rgba(60, 64, 67, 0.15);\n",
              "      fill: #174EA6;\n",
              "    }\n",
              "\n",
              "    [theme=dark] .colab-df-convert {\n",
              "      background-color: #3B4455;\n",
              "      fill: #D2E3FC;\n",
              "    }\n",
              "\n",
              "    [theme=dark] .colab-df-convert:hover {\n",
              "      background-color: #434B5C;\n",
              "      box-shadow: 0px 1px 3px 1px rgba(0, 0, 0, 0.15);\n",
              "      filter: drop-shadow(0px 1px 2px rgba(0, 0, 0, 0.3));\n",
              "      fill: #FFFFFF;\n",
              "    }\n",
              "  </style>\n",
              "\n",
              "      <script>\n",
              "        const buttonEl =\n",
              "          document.querySelector('#df-61344a9f-a5c4-4a85-b27b-c57e5792403e button.colab-df-convert');\n",
              "        buttonEl.style.display =\n",
              "          google.colab.kernel.accessAllowed ? 'block' : 'none';\n",
              "\n",
              "        async function convertToInteractive(key) {\n",
              "          const element = document.querySelector('#df-61344a9f-a5c4-4a85-b27b-c57e5792403e');\n",
              "          const dataTable =\n",
              "            await google.colab.kernel.invokeFunction('convertToInteractive',\n",
              "                                                     [key], {});\n",
              "          if (!dataTable) return;\n",
              "\n",
              "          const docLinkHtml = 'Like what you see? Visit the ' +\n",
              "            '<a target=\"_blank\" href=https://colab.research.google.com/notebooks/data_table.ipynb>data table notebook</a>'\n",
              "            + ' to learn more about interactive tables.';\n",
              "          element.innerHTML = '';\n",
              "          dataTable['output_type'] = 'display_data';\n",
              "          await google.colab.output.renderOutput(dataTable, element);\n",
              "          const docLink = document.createElement('div');\n",
              "          docLink.innerHTML = docLinkHtml;\n",
              "          element.appendChild(docLink);\n",
              "        }\n",
              "      </script>\n",
              "    </div>\n",
              "  </div>\n",
              "  "
            ]
          },
          "metadata": {},
          "execution_count": 1
        }
      ]
    },
    {
      "cell_type": "code",
      "source": [
        "(\n",
        "    carsDF\n",
        "    .groupby(carsDF.shopID)\n",
        "    .agg(numObservations=('observation', 'count'), \n",
        "        numBossVisits =('boss', 'sum'))\n",
        ")"
      ],
      "metadata": {
        "colab": {
          "base_uri": "https://localhost:8080/",
          "height": 238
        },
        "id": "O5-zjhAq3Z55",
        "outputId": "f01b1559-60b4-4fcd-8f0a-9fd53cf26f6f"
      },
      "execution_count": 2,
      "outputs": [
        {
          "output_type": "execute_result",
          "data": {
            "text/plain": [
              "        numObservations  numBossVisits\n",
              "shopID                                \n",
              "1                    50             10\n",
              "2                    50              5\n",
              "3                    50             15\n",
              "4                    50              5\n",
              "5                    50             15"
            ],
            "text/html": [
              "\n",
              "  <div id=\"df-7567a5e7-098f-4c49-b1ac-67aee0f67ff8\">\n",
              "    <div class=\"colab-df-container\">\n",
              "      <div>\n",
              "<style scoped>\n",
              "    .dataframe tbody tr th:only-of-type {\n",
              "        vertical-align: middle;\n",
              "    }\n",
              "\n",
              "    .dataframe tbody tr th {\n",
              "        vertical-align: top;\n",
              "    }\n",
              "\n",
              "    .dataframe thead th {\n",
              "        text-align: right;\n",
              "    }\n",
              "</style>\n",
              "<table border=\"1\" class=\"dataframe\">\n",
              "  <thead>\n",
              "    <tr style=\"text-align: right;\">\n",
              "      <th></th>\n",
              "      <th>numObservations</th>\n",
              "      <th>numBossVisits</th>\n",
              "    </tr>\n",
              "    <tr>\n",
              "      <th>shopID</th>\n",
              "      <th></th>\n",
              "      <th></th>\n",
              "    </tr>\n",
              "  </thead>\n",
              "  <tbody>\n",
              "    <tr>\n",
              "      <th>1</th>\n",
              "      <td>50</td>\n",
              "      <td>10</td>\n",
              "    </tr>\n",
              "    <tr>\n",
              "      <th>2</th>\n",
              "      <td>50</td>\n",
              "      <td>5</td>\n",
              "    </tr>\n",
              "    <tr>\n",
              "      <th>3</th>\n",
              "      <td>50</td>\n",
              "      <td>15</td>\n",
              "    </tr>\n",
              "    <tr>\n",
              "      <th>4</th>\n",
              "      <td>50</td>\n",
              "      <td>5</td>\n",
              "    </tr>\n",
              "    <tr>\n",
              "      <th>5</th>\n",
              "      <td>50</td>\n",
              "      <td>15</td>\n",
              "    </tr>\n",
              "  </tbody>\n",
              "</table>\n",
              "</div>\n",
              "      <button class=\"colab-df-convert\" onclick=\"convertToInteractive('df-7567a5e7-098f-4c49-b1ac-67aee0f67ff8')\"\n",
              "              title=\"Convert this dataframe to an interactive table.\"\n",
              "              style=\"display:none;\">\n",
              "        \n",
              "  <svg xmlns=\"http://www.w3.org/2000/svg\" height=\"24px\"viewBox=\"0 0 24 24\"\n",
              "       width=\"24px\">\n",
              "    <path d=\"M0 0h24v24H0V0z\" fill=\"none\"/>\n",
              "    <path d=\"M18.56 5.44l.94 2.06.94-2.06 2.06-.94-2.06-.94-.94-2.06-.94 2.06-2.06.94zm-11 1L8.5 8.5l.94-2.06 2.06-.94-2.06-.94L8.5 2.5l-.94 2.06-2.06.94zm10 10l.94 2.06.94-2.06 2.06-.94-2.06-.94-.94-2.06-.94 2.06-2.06.94z\"/><path d=\"M17.41 7.96l-1.37-1.37c-.4-.4-.92-.59-1.43-.59-.52 0-1.04.2-1.43.59L10.3 9.45l-7.72 7.72c-.78.78-.78 2.05 0 2.83L4 21.41c.39.39.9.59 1.41.59.51 0 1.02-.2 1.41-.59l7.78-7.78 2.81-2.81c.8-.78.8-2.07 0-2.86zM5.41 20L4 18.59l7.72-7.72 1.47 1.35L5.41 20z\"/>\n",
              "  </svg>\n",
              "      </button>\n",
              "      \n",
              "  <style>\n",
              "    .colab-df-container {\n",
              "      display:flex;\n",
              "      flex-wrap:wrap;\n",
              "      gap: 12px;\n",
              "    }\n",
              "\n",
              "    .colab-df-convert {\n",
              "      background-color: #E8F0FE;\n",
              "      border: none;\n",
              "      border-radius: 50%;\n",
              "      cursor: pointer;\n",
              "      display: none;\n",
              "      fill: #1967D2;\n",
              "      height: 32px;\n",
              "      padding: 0 0 0 0;\n",
              "      width: 32px;\n",
              "    }\n",
              "\n",
              "    .colab-df-convert:hover {\n",
              "      background-color: #E2EBFA;\n",
              "      box-shadow: 0px 1px 2px rgba(60, 64, 67, 0.3), 0px 1px 3px 1px rgba(60, 64, 67, 0.15);\n",
              "      fill: #174EA6;\n",
              "    }\n",
              "\n",
              "    [theme=dark] .colab-df-convert {\n",
              "      background-color: #3B4455;\n",
              "      fill: #D2E3FC;\n",
              "    }\n",
              "\n",
              "    [theme=dark] .colab-df-convert:hover {\n",
              "      background-color: #434B5C;\n",
              "      box-shadow: 0px 1px 3px 1px rgba(0, 0, 0, 0.15);\n",
              "      filter: drop-shadow(0px 1px 2px rgba(0, 0, 0, 0.3));\n",
              "      fill: #FFFFFF;\n",
              "    }\n",
              "  </style>\n",
              "\n",
              "      <script>\n",
              "        const buttonEl =\n",
              "          document.querySelector('#df-7567a5e7-098f-4c49-b1ac-67aee0f67ff8 button.colab-df-convert');\n",
              "        buttonEl.style.display =\n",
              "          google.colab.kernel.accessAllowed ? 'block' : 'none';\n",
              "\n",
              "        async function convertToInteractive(key) {\n",
              "          const element = document.querySelector('#df-7567a5e7-098f-4c49-b1ac-67aee0f67ff8');\n",
              "          const dataTable =\n",
              "            await google.colab.kernel.invokeFunction('convertToInteractive',\n",
              "                                                     [key], {});\n",
              "          if (!dataTable) return;\n",
              "\n",
              "          const docLinkHtml = 'Like what you see? Visit the ' +\n",
              "            '<a target=\"_blank\" href=https://colab.research.google.com/notebooks/data_table.ipynb>data table notebook</a>'\n",
              "            + ' to learn more about interactive tables.';\n",
              "          element.innerHTML = '';\n",
              "          dataTable['output_type'] = 'display_data';\n",
              "          await google.colab.output.renderOutput(dataTable, element);\n",
              "          const docLink = document.createElement('div');\n",
              "          docLink.innerHTML = docLinkHtml;\n",
              "          element.appendChild(docLink);\n",
              "        }\n",
              "      </script>\n",
              "    </div>\n",
              "  </div>\n",
              "  "
            ]
          },
          "metadata": {},
          "execution_count": 2
        }
      ]
    },
    {
      "cell_type": "markdown",
      "source": [
        "## Using carsDF, create a numpyro model for cars fixed by shop\n",
        "Assume carsFixed is poisson, ignore the effect of the boss.  What estimates do you get for lambda?   It might be easier to start with ignoring shop and then adding it later."
      ],
      "metadata": {
        "id": "Hq7cS6hm7RTR"
      }
    },
    {
      "cell_type": "code",
      "source": [
        "import xarray as xr\n",
        "import numpy as np\n",
        "import numpyro\n",
        "import numpyro.distributions as dist\n",
        "from jax import random\n",
        "from numpyro.infer import MCMC, NUTS\n",
        "import arviz as az\n",
        "\n",
        "## define the graphical/statistical model as a Python function\n",
        "def fixedCarsModel(k):\n",
        "    ## NOTE LAMBDA IS RESERVED WORD IN PYTHON... MUST USE MODIFIED NAME\n",
        "    lambdaParam = numpyro.sample('exp cars fixed', dist.Uniform(low = 0, high = 120))\n",
        "    \n",
        "    with numpyro.plate('observation', len(k)):\n",
        "        k = numpyro.sample('obs. cars fixed', dist.Poisson(rate = lambdaParam), obs = k)\n",
        "\n",
        "numpyro.render_model(fixedCarsModel, model_args = (carsDF.carsFixed.values,), render_distributions = True)"
      ],
      "metadata": {
        "colab": {
          "base_uri": "https://localhost:8080/",
          "height": 231
        },
        "id": "X9UoMNyRDd0W",
        "outputId": "1df83000-6af0-4c06-9d07-4487440d92fe"
      },
      "execution_count": 9,
      "outputs": [
        {
          "output_type": "execute_result",
          "data": {
            "text/plain": [
              "<graphviz.dot.Digraph at 0x7f741803bd10>"
            ],
            "image/svg+xml": "<?xml version=\"1.0\" encoding=\"UTF-8\" standalone=\"no\"?>\n<!DOCTYPE svg PUBLIC \"-//W3C//DTD SVG 1.1//EN\"\n \"http://www.w3.org/Graphics/SVG/1.1/DTD/svg11.dtd\">\n<!-- Generated by graphviz version 2.40.1 (20161225.0304)\n -->\n<!-- Title: %3 Pages: 1 -->\n<svg width=\"330pt\" height=\"157pt\"\n viewBox=\"0.00 0.00 329.50 157.00\" xmlns=\"http://www.w3.org/2000/svg\" xmlns:xlink=\"http://www.w3.org/1999/xlink\">\n<g id=\"graph0\" class=\"graph\" transform=\"scale(1 1) rotate(0) translate(4 153)\">\n<title>%3</title>\n<polygon fill=\"#ffffff\" stroke=\"transparent\" points=\"-4,4 -4,-153 325.5,-153 325.5,4 -4,4\"/>\n<g id=\"clust1\" class=\"cluster\">\n<title>cluster_observation</title>\n<polygon fill=\"none\" stroke=\"#000000\" points=\"8,-8 8,-83 152,-83 152,-8 8,-8\"/>\n<text text-anchor=\"middle\" x=\"110.5\" y=\"-15.8\" font-family=\"Times,serif\" font-size=\"14.00\" fill=\"#000000\">observation</text>\n</g>\n<!-- exp cars fixed -->\n<g id=\"node1\" class=\"node\">\n<title>exp cars fixed</title>\n<ellipse fill=\"#ffffff\" stroke=\"#000000\" cx=\"80\" cy=\"-130\" rx=\"62.2891\" ry=\"18\"/>\n<text text-anchor=\"middle\" x=\"80\" y=\"-126.3\" font-family=\"Times,serif\" font-size=\"14.00\" fill=\"#000000\">exp cars fixed</text>\n</g>\n<!-- obs. cars fixed -->\n<g id=\"node2\" class=\"node\">\n<title>obs. cars fixed</title>\n<ellipse fill=\"#c0c0c0\" stroke=\"#000000\" cx=\"80\" cy=\"-57\" rx=\"64.189\" ry=\"18\"/>\n<text text-anchor=\"middle\" x=\"80\" y=\"-53.3\" font-family=\"Times,serif\" font-size=\"14.00\" fill=\"#000000\">obs. cars fixed</text>\n</g>\n<!-- exp cars fixed&#45;&gt;obs. cars fixed -->\n<g id=\"edge1\" class=\"edge\">\n<title>exp cars fixed&#45;&gt;obs. cars fixed</title>\n<path fill=\"none\" stroke=\"#000000\" d=\"M80,-111.9551C80,-103.8828 80,-94.1764 80,-85.1817\"/>\n<polygon fill=\"#000000\" stroke=\"#000000\" points=\"83.5001,-85.0903 80,-75.0904 76.5001,-85.0904 83.5001,-85.0903\"/>\n</g>\n<!-- distribution_description_node -->\n<g id=\"node3\" class=\"node\">\n<title>distribution_description_node</title>\n<text text-anchor=\"start\" x=\"168.5\" y=\"-133.8\" font-family=\"Times,serif\" font-size=\"14.00\" fill=\"#000000\">exp cars fixed ~ Uniform</text>\n<text text-anchor=\"start\" x=\"168.5\" y=\"-118.8\" font-family=\"Times,serif\" font-size=\"14.00\" fill=\"#000000\">obs. cars fixed ~ Poisson</text>\n</g>\n</g>\n</svg>\n"
          },
          "metadata": {},
          "execution_count": 9
        }
      ]
    },
    {
      "cell_type": "code",
      "source": [
        "# ## computationally get posterior distribution\n",
        "mcmc = MCMC(NUTS(fixedCarsModel), num_warmup=1000, num_samples=4000) \n",
        "rng_key = random.PRNGKey(seed = 111) ## so you and I get same results\n",
        "mcmc.run(rng_key, k=carsDF.carsFixed.values) ## get representative sample of posterior"
      ],
      "metadata": {
        "colab": {
          "base_uri": "https://localhost:8080/"
        },
        "id": "K5N6xtMpD7kv",
        "outputId": "9410082a-27d8-4fd5-f237-d84ac99dc65d"
      },
      "execution_count": 10,
      "outputs": [
        {
          "output_type": "stream",
          "name": "stderr",
          "text": [
            "sample: 100%|██████████| 5000/5000 [00:07<00:00, 689.02it/s, 3 steps of size 1.18e+00. acc. prob=0.90] \n"
          ]
        }
      ]
    },
    {
      "cell_type": "code",
      "source": [
        "drawsDS = az.from_numpyro(mcmc).posterior ## get posterior samples into xarray\n",
        "az.plot_posterior(drawsDS)"
      ],
      "metadata": {
        "colab": {
          "base_uri": "https://localhost:8080/",
          "height": 304
        },
        "id": "TdCh3nEUFgx1",
        "outputId": "139699c7-e09c-4744-fac7-4157c14fc4b4"
      },
      "execution_count": 11,
      "outputs": [
        {
          "output_type": "execute_result",
          "data": {
            "text/plain": [
              "<AxesSubplot:title={'center':'exp cars fixed'}>"
            ]
          },
          "metadata": {},
          "execution_count": 11
        },
        {
          "output_type": "display_data",
          "data": {
            "text/plain": [
              "<Figure size 432x288 with 1 Axes>"
            ],
            "image/png": "[encoded data removed]"
          },
          "metadata": {
            "needs_background": "light"
          }
        }
      ]
    },
    {
      "cell_type": "markdown",
      "source": [
        "## have different lambda value for each shop"
      ],
      "metadata": {
        "id": "fTt6NWIGF1Er"
      }
    },
    {
      "cell_type": "code",
      "source": [
        "## define the graphical/statistical model as a Python function\n",
        "def fixedCarsModel(k, shopID):\n",
        "    ## NOTE LAMBDA IS RESERVED WORD IN PYTHON... MUST USE MODIFIED NAME\n",
        "    with numpyro.plate(\"j\", len(np.unique(shopID))):\n",
        "        lambdaParam = numpyro.sample('exp cars fixed', dist.Uniform(low = 0, high = 120))\n",
        "    \n",
        "    with numpyro.plate('observation', len(k)):\n",
        "        k = numpyro.sample('obs. cars fixed', dist.Poisson(rate = lambdaParam[shopID]), obs = k)\n",
        "\n",
        "numpyro.render_model(fixedCarsModel, model_args = (carsDF.carsFixed.values, carsDF.shopID.values), render_distributions = True)"
      ],
      "metadata": {
        "colab": {
          "base_uri": "https://localhost:8080/",
          "height": 264
        },
        "id": "ZrM9ISB6FzZz",
        "outputId": "32407412-4217-4f57-e1bb-aec999bbd7b6"
      },
      "execution_count": 17,
      "outputs": [
        {
          "output_type": "execute_result",
          "data": {
            "text/plain": [
              "<graphviz.dot.Digraph at 0x7f741bf73e10>"
            ],
            "image/svg+xml": "<?xml version=\"1.0\" encoding=\"UTF-8\" standalone=\"no\"?>\n<!DOCTYPE svg PUBLIC \"-//W3C//DTD SVG 1.1//EN\"\n \"http://www.w3.org/Graphics/SVG/1.1/DTD/svg11.dtd\">\n<!-- Generated by graphviz version 2.40.1 (20161225.0304)\n -->\n<!-- Title: %3 Pages: 1 -->\n<svg width=\"330pt\" height=\"182pt\"\n viewBox=\"0.00 0.00 329.50 182.00\" xmlns=\"http://www.w3.org/2000/svg\" xmlns:xlink=\"http://www.w3.org/1999/xlink\">\n<g id=\"graph0\" class=\"graph\" transform=\"scale(1 1) rotate(0) translate(4 178)\">\n<title>%3</title>\n<polygon fill=\"#ffffff\" stroke=\"transparent\" points=\"-4,4 -4,-178 325.5,-178 325.5,4 -4,4\"/>\n<g id=\"clust1\" class=\"cluster\">\n<title>cluster_j</title>\n<polygon fill=\"none\" stroke=\"#000000\" points=\"10,-91 10,-166 150,-166 150,-91 10,-91\"/>\n<text text-anchor=\"middle\" x=\"140\" y=\"-98.8\" font-family=\"Times,serif\" font-size=\"14.00\" fill=\"#000000\">j</text>\n</g>\n<g id=\"clust2\" class=\"cluster\">\n<title>cluster_observation</title>\n<polygon fill=\"none\" stroke=\"#000000\" points=\"8,-8 8,-83 152,-83 152,-8 8,-8\"/>\n<text text-anchor=\"middle\" x=\"110.5\" y=\"-15.8\" font-family=\"Times,serif\" font-size=\"14.00\" fill=\"#000000\">observation</text>\n</g>\n<!-- exp cars fixed -->\n<g id=\"node1\" class=\"node\">\n<title>exp cars fixed</title>\n<ellipse fill=\"#ffffff\" stroke=\"#000000\" cx=\"80\" cy=\"-140\" rx=\"62.2891\" ry=\"18\"/>\n<text text-anchor=\"middle\" x=\"80\" y=\"-136.3\" font-family=\"Times,serif\" font-size=\"14.00\" fill=\"#000000\">exp cars fixed</text>\n</g>\n<!-- obs. cars fixed -->\n<g id=\"node2\" class=\"node\">\n<title>obs. cars fixed</title>\n<ellipse fill=\"#c0c0c0\" stroke=\"#000000\" cx=\"80\" cy=\"-57\" rx=\"64.189\" ry=\"18\"/>\n<text text-anchor=\"middle\" x=\"80\" y=\"-53.3\" font-family=\"Times,serif\" font-size=\"14.00\" fill=\"#000000\">obs. cars fixed</text>\n</g>\n<!-- exp cars fixed&#45;&gt;obs. cars fixed -->\n<g id=\"edge1\" class=\"edge\">\n<title>exp cars fixed&#45;&gt;obs. cars fixed</title>\n<path fill=\"none\" stroke=\"#000000\" d=\"M80,-121.9902C80,-111.2963 80,-97.4994 80,-85.3706\"/>\n<polygon fill=\"#000000\" stroke=\"#000000\" points=\"83.5001,-85.2612 80,-75.2612 76.5001,-85.2613 83.5001,-85.2612\"/>\n</g>\n<!-- distribution_description_node -->\n<g id=\"node3\" class=\"node\">\n<title>distribution_description_node</title>\n<text text-anchor=\"start\" x=\"168.5\" y=\"-143.8\" font-family=\"Times,serif\" font-size=\"14.00\" fill=\"#000000\">exp cars fixed ~ Uniform</text>\n<text text-anchor=\"start\" x=\"168.5\" y=\"-128.8\" font-family=\"Times,serif\" font-size=\"14.00\" fill=\"#000000\">obs. cars fixed ~ Poisson</text>\n</g>\n</g>\n</svg>\n"
          },
          "metadata": {},
          "execution_count": 17
        }
      ]
    },
    {
      "cell_type": "code",
      "source": [
        "# ## computationally get posterior distribution\n",
        "mcmc = MCMC(NUTS(fixedCarsModel), num_warmup=1000, num_samples=4000) \n",
        "rng_key = random.PRNGKey(seed = 111) ## so you and I get same results\n",
        "mcmc.run(rng_key, k=carsDF.carsFixed.values, shopID = carsDF.shopID.values-1) ## get representative sample of posterior"
      ],
      "metadata": {
        "colab": {
          "base_uri": "https://localhost:8080/"
        },
        "id": "1A4JVXicG7k6",
        "outputId": "394a98c7-31b1-4ead-d9c9-9a1d2d2243ea"
      },
      "execution_count": 21,
      "outputs": [
        {
          "output_type": "stream",
          "name": "stderr",
          "text": [
            "sample: 100%|██████████| 5000/5000 [00:07<00:00, 675.08it/s, 7 steps of size 8.37e-01. acc. prob=0.88] \n"
          ]
        }
      ]
    },
    {
      "cell_type": "code",
      "source": [
        "drawsDS = az.from_numpyro(mcmc).posterior ## get posterior samples into xarray\n",
        "az.plot_posterior(drawsDS)"
      ],
      "metadata": {
        "colab": {
          "base_uri": "https://localhost:8080/",
          "height": 689
        },
        "id": "zm3mvt8QHlG7",
        "outputId": "4e2115ac-e010-4b7e-a69b-c8068a005802"
      },
      "execution_count": 22,
      "outputs": [
        {
          "output_type": "execute_result",
          "data": {
            "text/plain": [
              "array([[<AxesSubplot:title={'center':'exp cars fixed\\n0'}>,\n",
              "        <AxesSubplot:title={'center':'exp cars fixed\\n1'}>,\n",
              "        <AxesSubplot:title={'center':'exp cars fixed\\n2'}>],\n",
              "       [<AxesSubplot:title={'center':'exp cars fixed\\n3'}>,\n",
              "        <AxesSubplot:title={'center':'exp cars fixed\\n4'}>,\n",
              "        <AxesSubplot:>]], dtype=object)"
            ]
          },
          "metadata": {},
          "execution_count": 22
        },
        {
          "output_type": "display_data",
          "data": {
            "text/plain": [
              "<Figure size 1490.4x662.4 with 6 Axes>"
            ],
            "image/png": "[encoded data removed]"
          },
          "metadata": {
            "needs_background": "light"
          }
        }
      ]
    }
  ]
}