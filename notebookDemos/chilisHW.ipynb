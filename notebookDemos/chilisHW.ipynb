{
  "nbformat": 4,
  "nbformat_minor": 0,
  "metadata": {
    "colab": {
      "provenance": [],
      "collapsed_sections": [],
      "authorship_tag": "ABX9TyMeQepm8HJS+h9WLwgQqrR1",
      "include_colab_link": true
    },
    "kernelspec": {
      "name": "python3",
      "display_name": "Python 3"
    },
    "language_info": {
      "name": "python"
    }
  },
  "cells": [
    {
      "cell_type": "markdown",
      "metadata": {
        "id": "view-in-github",
        "colab_type": "text"
      },
      "source": [
        "<a href=\"https://colab.research.google.com/github/flyaflya/persuasive/blob/main/notebookDemos/chilisHW.ipynb\" target=\"_parent\"><img src=\"https://colab.research.google.com/assets/colab-badge.svg\" alt=\"Open In Colab\"/></a>"
      ]
    },
    {
      "cell_type": "code",
      "execution_count": null,
      "metadata": {
        "id": "S-rSsIz5-42A"
      },
      "outputs": [],
      "source": [
        "!pip install matplotlib --upgrade"
      ]
    },
    {
      "cell_type": "markdown",
      "source": [
        "## Code to generate prior, likelihood, and posterior values for Chili's Example"
      ],
      "metadata": {
        "id": "zXX61D_oW22I"
      }
    },
    {
      "cell_type": "code",
      "source": [
        "# REMEMBER TO RESTART RUNTIME FOR GOOGLE COLAB\n",
        "\n",
        "import matplotlib.pyplot as plt\n",
        "import numpy as np\n",
        "\n",
        "# we are using numpy to get element-wise computation as we've seen in xarray\n",
        "\n",
        "# theta is a parameter representing the probability that a remodeled store sees at least a 5% increase in sales\n",
        "# Two bosses: Boss1 Theta = 20% and Boss2 Theta = 70%\n",
        "# we have two competing models (i.e. the Boss1 and Boss2 models of the world)\n",
        "# Now make the vector of theta values that represent the models of the world:\n",
        "thetaVals = np.array([0.2,0.7])\n",
        "\n",
        "#CALCULATE PRIOR\n",
        "# pTheta is the vector of prior probabilities on the theta values.\n",
        "pTheta = np.array([0.5,0.5]) # Each boss has equally likely model.\n",
        "\n",
        "#SPECIFY OBSERVED DATA\n",
        "# Specify the data.  Comment out unused lines.\n",
        "#Data = np.array([1,1,1,0,0,0,0,0,0,0,0,0])  # 3 success, 9 failure\n",
        "Data = np.array([0])  ## one store is a failure\n",
        "nSuccess = np.sum( Data == 1 )    ##count # of successful stores\n",
        "nFail = np.sum( Data == 0 )    ##count # of failure stores\n",
        "\n",
        "#CALCULATE LIKELIHOOD (this is a given formula for likelihood, do not change it)\n",
        "# Compute the likelihood of the data for each value of theta:\n",
        "pDataGivenTheta = thetaVals**nSuccess * (1-thetaVals)**nFail\n",
        "\n",
        "#CALCULATE POSTERIOR PROBABILITIES\n",
        "# Compute the posterior as prior * likelihood / evidence\n",
        "pData = np.sum( pDataGivenTheta * pTheta ) #evidence\n",
        "pThetaGivenData = pDataGivenTheta * pTheta / pData   # This is Bayes' rule!\n"
      ],
      "metadata": {
        "id": "bZcXLX-n_Ebn"
      },
      "execution_count": null,
      "outputs": []
    },
    {
      "cell_type": "markdown",
      "source": [
        "## Make graph of prior, likelihood, and posterior."
      ],
      "metadata": {
        "id": "5VdCS3MFWwQ9"
      }
    },
    {
      "cell_type": "code",
      "source": [
        "# make figure for plotting\n",
        "plt.style.use(\"seaborn-whitegrid\")\n",
        "fig, (prior, likelihood, posterior) = plt.subplots(nrows = 3,\n",
        "                                                   figsize=(8, 6), \n",
        "                                                   layout='constrained')\n",
        "\n",
        "# make prior plot\n",
        "prior.bar(x = thetaVals, height = pTheta, width=0.05, color = \"orchid\")\n",
        "for idx, theta in np.ndenumerate(thetaVals):\n",
        "    prior.text(x = theta, y = pTheta[idx] + 0.02, fontsize=12,\n",
        "               s = str(pTheta[idx].round(3)), ha = 'center', va = 'bottom')\n",
        "prior.set_xticks(np.linspace(0,1,11))\n",
        "prior.set_ylim(0,max(pTheta + 0.15))\n",
        "prior.set_ylabel(r'Prior: $P(\\theta)$', fontsize=11)\n",
        "\n",
        "# make likelihood plot\n",
        "likelihood.bar(x = thetaVals, height = pDataGivenTheta, width=0.05, color = \"green\")\n",
        "for idx, theta in np.ndenumerate(thetaVals):\n",
        "    likelihood.text(x = theta, y = pDataGivenTheta[idx] + 0.02, fontsize=12,\n",
        "               s = str(pDataGivenTheta[idx].round(3)), ha = 'center', va = 'bottom')\n",
        "likelihood.set_xticks(np.linspace(0,1,11))\n",
        "likelihood.set_ylim(0,max(pDataGivenTheta + 0.15))\n",
        "likelihood.set_ylabel(r'Likelihood: $P(Data | \\theta)$', fontsize=11)\n",
        "\n",
        "# make posterior plot\n",
        "posterior.bar(x = thetaVals, height = pThetaGivenData, width=0.05, color = \"cornflowerblue\")\n",
        "for idx, theta in np.ndenumerate(thetaVals):\n",
        "    posterior.text(x = theta, y = pThetaGivenData[idx] + 0.02, fontsize=12,\n",
        "               s = str(pThetaGivenData[idx].round(3)), ha = 'center', va = 'bottom')\n",
        "posterior.set_xticks(np.linspace(0,1,11))\n",
        "posterior.set_ylim(0,max(pThetaGivenData + 0.15))\n",
        "posterior.set_ylabel(r'Posterior: $P(\\theta | Data)$', fontsize=11)\n",
        "posterior.set_xlabel(r'$\\theta$')\n",
        "\n",
        "titleStr = \"Belief Evolution -- \" + str(nFail) + \" failure(s) -- \" + str(nSuccess) + \"Success(es)\"\n",
        "\n",
        "fig.suptitle(titleStr, fontweight = \"bold\", fontsize=18)\n",
        "\n",
        "plt.show()"
      ],
      "metadata": {
        "id": "OHo4iFvUBpfa"
      },
      "execution_count": null,
      "outputs": []
    }
  ]
}